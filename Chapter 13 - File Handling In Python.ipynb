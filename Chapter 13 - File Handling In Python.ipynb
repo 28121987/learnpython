{
 "cells": [
  {
   "cell_type": "markdown",
   "metadata": {},
   "source": [
    "##### Reading Existing Files"
   ]
  },
  {
   "cell_type": "markdown",
   "metadata": {},
   "source": [
    "- Reading Entire File"
   ]
  },
  {
   "cell_type": "code",
   "execution_count": 23,
   "metadata": {},
   "outputs": [
    {
     "name": "stdout",
     "output_type": "stream",
     "text": [
      "Pavan\n",
      "Kulkarni\n",
      "Panvel\n",
      "20\n",
      "9869990750\n"
     ]
    }
   ],
   "source": [
    "f=open(\"C:/Users/Administrator/Desktop/temp/records.txt\",\"r\")\n",
    "print(f.read())"
   ]
  },
  {
   "cell_type": "markdown",
   "metadata": {},
   "source": [
    "- Reading part of the file"
   ]
  },
  {
   "cell_type": "code",
   "execution_count": 22,
   "metadata": {},
   "outputs": [
    {
     "name": "stdout",
     "output_type": "stream",
     "text": [
      "Pavan\n",
      "Kulkarni\n"
     ]
    }
   ],
   "source": [
    "f=open(\"C:/Users/Administrator/Desktop/temp/records.txt\",\"r\")\n",
    "print(f.read(14))"
   ]
  },
  {
   "cell_type": "markdown",
   "metadata": {},
   "source": [
    "- Reading File Line by Line"
   ]
  },
  {
   "cell_type": "code",
   "execution_count": 27,
   "metadata": {},
   "outputs": [
    {
     "name": "stdout",
     "output_type": "stream",
     "text": [
      "Pavan\n",
      "\n",
      "Kulkarni\n",
      "\n",
      "Panvel\n",
      "\n",
      "20\n",
      "\n"
     ]
    }
   ],
   "source": [
    "f=open(\"C:/Users/Administrator/Desktop/temp/records.txt\",\"r\")\n",
    "print(f.readline())\n",
    "print(f.readline())\n",
    "print(f.readline())\n",
    "string1=f.readline()\n",
    "print(string1)"
   ]
  },
  {
   "cell_type": "markdown",
   "metadata": {},
   "source": [
    "- Reading file using Loop"
   ]
  },
  {
   "cell_type": "code",
   "execution_count": 31,
   "metadata": {},
   "outputs": [
    {
     "name": "stdout",
     "output_type": "stream",
     "text": [
      "Pavan\n",
      "\n",
      "Kulkarni\n",
      "\n",
      "Panvel\n",
      "\n",
      "20\n",
      "\n",
      "9869990750\n"
     ]
    }
   ],
   "source": [
    "f=open(\"C:/Users/Administrator/Desktop/temp/records.txt\")\n",
    "for line in f:\n",
    "    print(line)"
   ]
  },
  {
   "cell_type": "markdown",
   "metadata": {},
   "source": [
    "- close opened file"
   ]
  },
  {
   "cell_type": "code",
   "execution_count": 35,
   "metadata": {},
   "outputs": [
    {
     "name": "stdout",
     "output_type": "stream",
     "text": [
      "Pavan\n",
      "\n",
      "Kulkarni\n",
      "\n",
      "Panvel\n",
      "\n",
      "20\n",
      "\n",
      "9869990750\n",
      "File is currently open..\n",
      "File is closed now...\n"
     ]
    }
   ],
   "source": [
    "f=open(\"C:/Users/Administrator/Desktop/temp/records.txt\",\"r\")\n",
    "for line in f:\n",
    "    print(line)\n",
    "print(\"File is currently open..\")\n",
    "f.close()\n",
    "print(\"File is closed now...\")"
   ]
  },
  {
   "cell_type": "markdown",
   "metadata": {},
   "source": [
    "##### Writing into File"
   ]
  },
  {
   "cell_type": "markdown",
   "metadata": {},
   "source": [
    "- For writing into files we have two modes\n",
    "- a - append (Doen not replace existing file content, new content appeded)\n",
    "- w - overwrite (replace existing file content)"
   ]
  },
  {
   "cell_type": "code",
   "execution_count": 47,
   "metadata": {},
   "outputs": [
    {
     "name": "stdout",
     "output_type": "stream",
     "text": [
      "Content appeded\n"
     ]
    }
   ],
   "source": [
    "# Append the content to file\n",
    "f=open(\"C:/Users/Administrator/Desktop/temp/records.txt\",\"a\")\n",
    "f.write(\"\\n\\nSayali\\nNavi Mumbai\\n78458456845\\n20\")\n",
    "f.close()\n",
    "print(\"Content appeded\")"
   ]
  },
  {
   "cell_type": "code",
   "execution_count": 48,
   "metadata": {},
   "outputs": [
    {
     "name": "stdout",
     "output_type": "stream",
     "text": [
      "New File is --\n",
      "Pavan\n",
      "Kulkarni\n",
      "Panvel\n",
      "20\n",
      "9869990750\\nPrathemesh\\n20\\n8958684684\\nNavi Mumbai\"\\n\"Kavya\n",
      " Divya\n",
      "Mumbai\n",
      "9489695\n",
      "4\n",
      "Sayali\n",
      "Navi Mumbai\n",
      "78458456845\t20\n",
      "\n",
      "Sayali\n",
      "Navi Mumbai\n",
      "78458456845\n",
      "20\n"
     ]
    }
   ],
   "source": [
    "# Read updated file\n",
    "print(\"New File is --\")\n",
    "f=open(\"C:/Users/Administrator/Desktop/temp/records.txt\",\"r\")\n",
    "print(f.read())"
   ]
  },
  {
   "cell_type": "code",
   "execution_count": 53,
   "metadata": {},
   "outputs": [
    {
     "name": "stdout",
     "output_type": "stream",
     "text": [
      "Enter Text to appendthis is new line\n",
      "Content appeded\n"
     ]
    }
   ],
   "source": [
    "# Append the content to file\n",
    "f=open(\"C:/Users/Administrator/Desktop/temp/records.txt\",\"a\")\n",
    "append_txt=input(\"Enter Text to append\")\n",
    "f.write(\"\\n\"+append_txt)\n",
    "f.close()\n",
    "print(\"Content appeded\")"
   ]
  },
  {
   "cell_type": "code",
   "execution_count": 54,
   "metadata": {},
   "outputs": [
    {
     "name": "stdout",
     "output_type": "stream",
     "text": [
      "New File is --\n",
      "Pavan\n",
      "Kulkarni\n",
      "Panvel\n",
      "20\n",
      "9869990750\\nPrathemesh\\n20\\n8958684684\\nNavi Mumbai\"\\n\"Kavya\n",
      " Divya\n",
      "Mumbai\n",
      "9489695\n",
      "4\n",
      "Sayali\n",
      "Navi Mumbai\n",
      "78458456845\t20\n",
      "\n",
      "Sayali\n",
      "Navi Mumbai\n",
      "78458456845\n",
      "20hi this is new texte\n",
      "this is new line\n"
     ]
    }
   ],
   "source": [
    "# Read updated file\n",
    "print(\"New File is --\")\n",
    "f=open(\"C:/Users/Administrator/Desktop/temp/records.txt\",\"r\")\n",
    "print(f.read())"
   ]
  },
  {
   "cell_type": "markdown",
   "metadata": {},
   "source": [
    "- Write into files using 'w' mode"
   ]
  },
  {
   "cell_type": "code",
   "execution_count": 56,
   "metadata": {},
   "outputs": [
    {
     "name": "stdout",
     "output_type": "stream",
     "text": [
      "Content Overwrriten\n"
     ]
    }
   ],
   "source": [
    "f=open(\"C:/Users/Administrator/Desktop/temp/records.txt\",\"w\")\n",
    "f.write(\"\\nSamrudhha\\nPanvel\\n9864857878\\n21\")\n",
    "f.close()\n",
    "print(\"Content Overwrriten\")"
   ]
  },
  {
   "cell_type": "code",
   "execution_count": 79,
   "metadata": {},
   "outputs": [
    {
     "name": "stdout",
     "output_type": "stream",
     "text": [
      "New File is --\n",
      "\n",
      "Samrudhha\n",
      "Panvel\n",
      "9864857878\n",
      "21\n"
     ]
    }
   ],
   "source": [
    "# Read updated file\n",
    "print(\"New File is --\")\n",
    "f=open(\"C:/Users/Administrator/Desktop/temp/records.txt\",\"r\")\n",
    "print(f.read())\n",
    "f.close()"
   ]
  },
  {
   "cell_type": "markdown",
   "metadata": {},
   "source": [
    "##### Create new file"
   ]
  },
  {
   "cell_type": "code",
   "execution_count": 66,
   "metadata": {},
   "outputs": [],
   "source": [
    "f=open(\"C:/Users/Administrator/Desktop/temp/records1.txt\",\"x\")\n",
    "f.close()"
   ]
  },
  {
   "cell_type": "code",
   "execution_count": 67,
   "metadata": {},
   "outputs": [],
   "source": [
    "f=open(\"C:/Users/Administrator/Desktop/temp/records2.txt\",\"w\")\n",
    "f.close()"
   ]
  },
  {
   "cell_type": "code",
   "execution_count": 68,
   "metadata": {},
   "outputs": [],
   "source": [
    "f=open(\"C:/Users/Administrator/Desktop/temp/records3.txt\",\"a\")\n",
    "f.close()"
   ]
  },
  {
   "cell_type": "markdown",
   "metadata": {},
   "source": [
    "- To create files in python we can use any one mode from x,a and w"
   ]
  },
  {
   "cell_type": "markdown",
   "metadata": {},
   "source": [
    "##### Deleting Files and Directories"
   ]
  },
  {
   "cell_type": "code",
   "execution_count": 70,
   "metadata": {},
   "outputs": [],
   "source": [
    "import os"
   ]
  },
  {
   "cell_type": "code",
   "execution_count": 71,
   "metadata": {},
   "outputs": [],
   "source": [
    "os.remove(\"C:/Users/Administrator/Desktop/temp/records3.txt\")"
   ]
  },
  {
   "cell_type": "code",
   "execution_count": 80,
   "metadata": {},
   "outputs": [
    {
     "ename": "PermissionError",
     "evalue": "[WinError 32] The process cannot access the file because it is being used by another process: 'C:/Users/Administrator/Desktop/temp/records.txt'",
     "output_type": "error",
     "traceback": [
      "\u001b[1;31m---------------------------------------------------------------------------\u001b[0m",
      "\u001b[1;31mPermissionError\u001b[0m                           Traceback (most recent call last)",
      "\u001b[1;32m<ipython-input-80-2702970f6e7a>\u001b[0m in \u001b[0;36m<module>\u001b[1;34m\u001b[0m\n\u001b[0;32m      1\u001b[0m \u001b[1;32mif\u001b[0m \u001b[0mos\u001b[0m\u001b[1;33m.\u001b[0m\u001b[0mpath\u001b[0m\u001b[1;33m.\u001b[0m\u001b[0mexists\u001b[0m\u001b[1;33m(\u001b[0m\u001b[1;34m\"C:/Users/Administrator/Desktop/temp/records.txt\"\u001b[0m\u001b[1;33m)\u001b[0m\u001b[1;33m:\u001b[0m\u001b[1;33m\u001b[0m\u001b[0m\n\u001b[1;32m----> 2\u001b[1;33m     \u001b[0mos\u001b[0m\u001b[1;33m.\u001b[0m\u001b[0mremove\u001b[0m\u001b[1;33m(\u001b[0m\u001b[1;34m\"C:/Users/Administrator/Desktop/temp/records.txt\"\u001b[0m\u001b[1;33m)\u001b[0m\u001b[1;33m\u001b[0m\u001b[0m\n\u001b[0m\u001b[0;32m      3\u001b[0m \u001b[1;32melse\u001b[0m\u001b[1;33m:\u001b[0m\u001b[1;33m\u001b[0m\u001b[0m\n\u001b[0;32m      4\u001b[0m     \u001b[0mprint\u001b[0m\u001b[1;33m(\u001b[0m\u001b[1;34m\"Specified File not present in that location\"\u001b[0m\u001b[1;33m)\u001b[0m\u001b[1;33m\u001b[0m\u001b[0m\n",
      "\u001b[1;31mPermissionError\u001b[0m: [WinError 32] The process cannot access the file because it is being used by another process: 'C:/Users/Administrator/Desktop/temp/records.txt'"
     ]
    }
   ],
   "source": [
    "if os.path.exists(\"C:/Users/Administrator/Desktop/temp/records.txt\"):\n",
    "    os.remove(\"C:/Users/Administrator/Desktop/temp/records.txt\")\n",
    "else:\n",
    "    print(\"Specified File not present in that location\")"
   ]
  },
  {
   "cell_type": "code",
   "execution_count": 74,
   "metadata": {},
   "outputs": [
    {
     "ename": "OSError",
     "evalue": "[WinError 145] The directory is not empty: 'C:/Users/Administrator/Desktop/temp'",
     "output_type": "error",
     "traceback": [
      "\u001b[1;31m---------------------------------------------------------------------------\u001b[0m",
      "\u001b[1;31mOSError\u001b[0m                                   Traceback (most recent call last)",
      "\u001b[1;32m<ipython-input-74-2ce3b945f464>\u001b[0m in \u001b[0;36m<module>\u001b[1;34m\u001b[0m\n\u001b[1;32m----> 1\u001b[1;33m \u001b[0mos\u001b[0m\u001b[1;33m.\u001b[0m\u001b[0mrmdir\u001b[0m\u001b[1;33m(\u001b[0m\u001b[1;34m\"C:/Users/Administrator/Desktop/temp\"\u001b[0m\u001b[1;33m)\u001b[0m\u001b[1;33m\u001b[0m\u001b[0m\n\u001b[0m",
      "\u001b[1;31mOSError\u001b[0m: [WinError 145] The directory is not empty: 'C:/Users/Administrator/Desktop/temp'"
     ]
    }
   ],
   "source": [
    "os.rmdir(\"C:/Users/Administrator/Desktop/temp\")"
   ]
  },
  {
   "cell_type": "code",
   "execution_count": 1,
   "metadata": {},
   "outputs": [],
   "source": [
    "f=open(\"C:/Users/Administrator/Desktop/temp/records.txt\",\"r\")\n",
    "f.close()"
   ]
  },
  {
   "cell_type": "code",
   "execution_count": 3,
   "metadata": {},
   "outputs": [],
   "source": [
    "import os\n",
    "os.remove(\"C:/Users/Administrator/Desktop/temp/records.txt\")"
   ]
  },
  {
   "cell_type": "markdown",
   "metadata": {},
   "source": [
    "- Whenever we are working with files, at the end you must close the file connection"
   ]
  },
  {
   "cell_type": "code",
   "execution_count": 4,
   "metadata": {},
   "outputs": [],
   "source": [
    "# delete empty directory\n",
    "os.rmdir(\"C:\\\\Users\\\\Administrator\\\\Desktop\\\\temp\")"
   ]
  },
  {
   "cell_type": "markdown",
   "metadata": {},
   "source": [
    "###### create new directory on Desktop, create new file in that new directory using x mode, write about yourself using w mode, read file through loop and count no of words and print it"
   ]
  },
  {
   "cell_type": "code",
   "execution_count": 5,
   "metadata": {},
   "outputs": [],
   "source": [
    "import os"
   ]
  },
  {
   "cell_type": "code",
   "execution_count": 7,
   "metadata": {},
   "outputs": [],
   "source": [
    "# create new directory called temp on Desktop\n",
    "os.mkdir(\"C:/Users/Administrator/Desktop/temp1\")"
   ]
  },
  {
   "cell_type": "code",
   "execution_count": 8,
   "metadata": {},
   "outputs": [],
   "source": [
    "# create new file using x mode\n",
    "f=open(\"C:/Users/Administrator/Desktop/temp1/mytextfile.txt\",\"x\")"
   ]
  },
  {
   "cell_type": "code",
   "execution_count": 9,
   "metadata": {},
   "outputs": [],
   "source": [
    "# write anything in that file using w mode\n",
    "f=open(\"C:/Users/Administrator/Desktop/temp1/mytextfile.txt\",\"w\")\n",
    "f.write(\"\\nThis file i have created to count the number of words\")\n",
    "f.close()"
   ]
  },
  {
   "cell_type": "code",
   "execution_count": 19,
   "metadata": {},
   "outputs": [
    {
     "name": "stdout",
     "output_type": "stream",
     "text": [
      "This file i have created to count the number of words\n"
     ]
    }
   ],
   "source": [
    "# read the content of file using loop\n",
    "f=open(\"C:/Users/Administrator/Desktop/temp1/mytextfile.txt\",\"r\")\n",
    "for line in f:\n",
    "    print(line)\n",
    "f.close()"
   ]
  },
  {
   "cell_type": "code",
   "execution_count": 34,
   "metadata": {},
   "outputs": [
    {
     "name": "stdout",
     "output_type": "stream",
     "text": [
      "['This', 'file', 'i', 'have', 'created', 'to', 'count', 'the', 'number', 'of', 'words']\n",
      "11\n"
     ]
    }
   ],
   "source": [
    "# write code to count the number of words in above file\n",
    "f=open(\"C:/Users/Administrator/Desktop/temp1/mytextfile.txt\",\"r\")\n",
    "no_of_words=0\n",
    "for line in f:\n",
    "    words=line.split(\" \")\n",
    "    no_of_words=no_of_words+len(words)\n",
    "    print(words)\n",
    "print(no_of_words)"
   ]
  },
  {
   "cell_type": "markdown",
   "metadata": {},
   "source": [
    "##### Write a program to accept employee details(empID,empName,empSal,empDept, empLoc) from user and Store into employee.txt file"
   ]
  },
  {
   "cell_type": "code",
   "execution_count": 39,
   "metadata": {},
   "outputs": [
    {
     "name": "stdout",
     "output_type": "stream",
     "text": [
      "Enter EmployeeID:102\n",
      "Enter Employee Name:Kayra\n",
      "Enter Employee Salary:457847\n",
      "Enter Employee Department:HR\n",
      "Enter Employee Location:Mumbai\n",
      "Data Written\n",
      "Employee Details are \n",
      "\n",
      "\n",
      "102\n",
      "Kayra\n",
      "457847\n",
      "HR\n",
      "Mumbai\n"
     ]
    }
   ],
   "source": [
    "empID=input(\"Enter EmployeeID:\")\n",
    "empName=input(\"Enter Employee Name:\")\n",
    "empSal=input(\"Enter Employee Salary:\")\n",
    "empDept=input(\"Enter Employee Department:\")\n",
    "empLoc=input(\"Enter Employee Location:\")\n",
    "\n",
    "with open(\"C:/Users/Administrator/Desktop/temp1/employee.txt\",\"w\") as f:\n",
    "    f.write(\"\\n\")\n",
    "    f.write(empID)\n",
    "    f.write(\"\\n\")\n",
    "    f.write(empName)\n",
    "    f.write(\"\\n\")\n",
    "    f.write(empSal)\n",
    "    f.write(\"\\n\")\n",
    "    f.write(empDept)\n",
    "    f.write(\"\\n\")\n",
    "    f.write(empLoc)\n",
    "    print(\"Data Written\")\n",
    "    \n",
    "with open(\"C:/Users/Administrator/Desktop/temp1/employee.txt\",\"r\") as f:\n",
    "    print(\"Employee Details are \\n\")\n",
    "    print(f.read())"
   ]
  },
  {
   "cell_type": "code",
   "execution_count": null,
   "metadata": {},
   "outputs": [],
   "source": []
  }
 ],
 "metadata": {
  "kernelspec": {
   "display_name": "Python 3",
   "language": "python",
   "name": "python3"
  },
  "language_info": {
   "codemirror_mode": {
    "name": "ipython",
    "version": 3
   },
   "file_extension": ".py",
   "mimetype": "text/x-python",
   "name": "python",
   "nbconvert_exporter": "python",
   "pygments_lexer": "ipython3",
   "version": "3.6.4"
  }
 },
 "nbformat": 4,
 "nbformat_minor": 2
}
