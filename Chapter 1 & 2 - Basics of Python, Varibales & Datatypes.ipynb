{
 "cells": [
  {
   "cell_type": "markdown",
   "metadata": {},
   "source": [
    "# Introduction to Python"
   ]
  },
  {
   "cell_type": "markdown",
   "metadata": {},
   "source": [
    "## Python Basic"
   ]
  },
  {
   "cell_type": "code",
   "execution_count": 2,
   "metadata": {},
   "outputs": [
    {
     "name": "stdout",
     "output_type": "stream",
     "text": [
      "hello\n"
     ]
    }
   ],
   "source": [
    "# Printing Hello World\n",
    "print(\"hello\")"
   ]
  },
  {
   "cell_type": "code",
   "execution_count": 6,
   "metadata": {},
   "outputs": [
    {
     "name": "stdout",
     "output_type": "stream",
     "text": [
      "This is proper indenetation\n",
      "this is also proper indenetation\n",
      "this is also proper indentation\n"
     ]
    }
   ],
   "source": [
    "# Indentation - all statement in block should be equally spaced\n",
    "if 12>3:\n",
    "    print(\"This is proper indenetation\")\n",
    "    \n",
    "if 23<56:\n",
    " print(\"this is also proper indenetation\")\n",
    " print(\"this is also proper indentation\")"
   ]
  },
  {
   "cell_type": "code",
   "execution_count": 7,
   "metadata": {},
   "outputs": [
    {
     "ename": "IndentationError",
     "evalue": "unexpected indent (<ipython-input-7-2529b4f670dc>, line 3)",
     "output_type": "error",
     "traceback": [
      "\u001b[1;36m  File \u001b[1;32m\"<ipython-input-7-2529b4f670dc>\"\u001b[1;36m, line \u001b[1;32m3\u001b[0m\n\u001b[1;33m    print(\"this is second statement\")\u001b[0m\n\u001b[1;37m    ^\u001b[0m\n\u001b[1;31mIndentationError\u001b[0m\u001b[1;31m:\u001b[0m unexpected indent\n"
     ]
    }
   ],
   "source": [
    "# indentation not proper example\n",
    "print(\"this is first statement\")\n",
    " print(\"this is second statement\")"
   ]
  },
  {
   "cell_type": "markdown",
   "metadata": {},
   "source": [
    "## Comments in Python\n",
    "#### Commented statement will be for more readability of code and will not execute those statement"
   ]
  },
  {
   "cell_type": "code",
   "execution_count": 8,
   "metadata": {},
   "outputs": [
    {
     "name": "stdout",
     "output_type": "stream",
     "text": [
      "this statement is not of comment\n"
     ]
    }
   ],
   "source": [
    "# this statement is comment it will not be executed\n",
    "print(\"this statement is not of comment\")"
   ]
  },
  {
   "cell_type": "code",
   "execution_count": 9,
   "metadata": {},
   "outputs": [
    {
     "name": "stdout",
     "output_type": "stream",
     "text": [
      "this is second statement\n"
     ]
    }
   ],
   "source": [
    "print(\"this is second statement\") # comment is starting from here"
   ]
  },
  {
   "cell_type": "code",
   "execution_count": 13,
   "metadata": {},
   "outputs": [
    {
     "name": "stdout",
     "output_type": "stream",
     "text": [
      "this is statement1\n",
      "this is statement5\n"
     ]
    }
   ],
   "source": [
    "# Multiline Comment\n",
    "print(\"this is statement1\")\n",
    "#print(\"this is statement2\")\n",
    "#print(\"this is statement3\")\n",
    "#print(\"this is statement4\")\n",
    "print(\"this is statement5\")"
   ]
  },
  {
   "cell_type": "code",
   "execution_count": 16,
   "metadata": {},
   "outputs": [
    {
     "name": "stdout",
     "output_type": "stream",
     "text": [
      "this statement will execute\n"
     ]
    }
   ],
   "source": [
    "# create multiline string and don't assign it to anything, \n",
    "# this will create multiline comment in python\n",
    "\"\"\"\n",
    "bchsdbhbsd\n",
    "vhesvbcf\n",
    "cbhsbdjc\n",
    "bjfbefjberj\n",
    "this is a comment\n",
    "\"\"\"\n",
    "print(\"this statement will execute\")"
   ]
  },
  {
   "cell_type": "code",
   "execution_count": 17,
   "metadata": {},
   "outputs": [
    {
     "name": "stdout",
     "output_type": "stream",
     "text": [
      "this statement will execute\n"
     ]
    }
   ],
   "source": [
    "'''\n",
    "bchsdbhbsd\n",
    "vhesvbcf\n",
    "cbhsbdjc\n",
    "bjfbefjberj\n",
    "this is a comment\n",
    "'''\n",
    "print(\"this statement will execute\")"
   ]
  },
  {
   "cell_type": "markdown",
   "metadata": {},
   "source": [
    "## Variables"
   ]
  },
  {
   "cell_type": "code",
   "execution_count": 38,
   "metadata": {},
   "outputs": [
    {
     "name": "stdout",
     "output_type": "stream",
     "text": [
      "<class 'int'>\n",
      "<class 'str'>\n",
      "<class 'float'>\n",
      "34\n",
      "34\n",
      "34\n",
      "11\n",
      "22\n",
      "33\n"
     ]
    }
   ],
   "source": [
    "roll=127\n",
    "name=\"pavan\"\n",
    "per=77.77\n",
    "print(type(roll))\n",
    "print(type(name))\n",
    "print(type(per))\n",
    "var1=var2=var3=34\n",
    "print(var1)\n",
    "print(var2)\n",
    "print(var3)\n",
    "v1,v2,v3=11,22,33\n",
    "print(v1)\n",
    "print(v2)\n",
    "print(v3)"
   ]
  },
  {
   "cell_type": "code",
   "execution_count": 46,
   "metadata": {},
   "outputs": [
    {
     "ename": "SyntaxError",
     "evalue": "invalid syntax (<ipython-input-46-ac7bffd5ca1a>, line 3)",
     "output_type": "error",
     "traceback": [
      "\u001b[1;36m  File \u001b[1;32m\"<ipython-input-46-ac7bffd5ca1a>\"\u001b[1;36m, line \u001b[1;32m3\u001b[0m\n\u001b[1;33m    1var=45    # invalid\u001b[0m\n\u001b[1;37m       ^\u001b[0m\n\u001b[1;31mSyntaxError\u001b[0m\u001b[1;31m:\u001b[0m invalid syntax\n"
     ]
    }
   ],
   "source": [
    "# Valid or invalid Variables\n",
    "#  Variable is name given to reserved memory location \n",
    "# to store a value(int, float, complex, bytes, str etc)\n",
    "var1=12    # Valid\n",
    "1var=45    # invalid\n",
    "var#=\"hello\"  # invalid\n",
    "var76c=56.76  # Valid\n",
    "_var7=99     # Valid"
   ]
  },
  {
   "cell_type": "code",
   "execution_count": 48,
   "metadata": {},
   "outputs": [],
   "source": [
    "# How to ouput a variable?\n",
    "# varible can be displayed using print with  +/,symbol"
   ]
  },
  {
   "cell_type": "code",
   "execution_count": 57,
   "metadata": {},
   "outputs": [
    {
     "name": "stdout",
     "output_type": "stream",
     "text": [
      "Python is awesome\n",
      "Python isawesome\n",
      "Python is awesome\n"
     ]
    }
   ],
   "source": [
    "x=\"awesome\"\n",
    "print(\"Python is\",x)\n",
    "x=\"awesome\"\n",
    "print(\"Python is\"+x)\n",
    "print(\"Python is\"+\" \"+x)"
   ]
  },
  {
   "cell_type": "code",
   "execution_count": 58,
   "metadata": {},
   "outputs": [
    {
     "name": "stdout",
     "output_type": "stream",
     "text": [
      "python isawesome\n"
     ]
    }
   ],
   "source": [
    "# if both variables are string it will concate\n",
    "str1=\"python is\"\n",
    "str2=\"awesome\"\n",
    "str3=str1+str2\n",
    "print(str3)"
   ]
  },
  {
   "cell_type": "code",
   "execution_count": 59,
   "metadata": {},
   "outputs": [
    {
     "name": "stdout",
     "output_type": "stream",
     "text": [
      "57\n"
     ]
    }
   ],
   "source": [
    "# if both variables are int, it will add\n",
    "n1=23\n",
    "n2=34\n",
    "n3=n1+n2\n",
    "print(n3)"
   ]
  },
  {
   "cell_type": "code",
   "execution_count": 60,
   "metadata": {},
   "outputs": [
    {
     "name": "stdout",
     "output_type": "stream",
     "text": [
      "23\n"
     ]
    }
   ],
   "source": [
    "# if both variables are string it will concate\n",
    "n1=\"2\"\n",
    "n2=\"3\"\n",
    "n3=n1+n2\n",
    "print(n3)"
   ]
  },
  {
   "cell_type": "code",
   "execution_count": 70,
   "metadata": {},
   "outputs": [
    {
     "name": "stdout",
     "output_type": "stream",
     "text": [
      "57.3\n"
     ]
    }
   ],
   "source": [
    "# float + int = float\n",
    "n1=23.3\n",
    "n2=34\n",
    "n3=n1+n2\n",
    "print(n3)"
   ]
  },
  {
   "cell_type": "code",
   "execution_count": 68,
   "metadata": {},
   "outputs": [
    {
     "name": "stdout",
     "output_type": "stream",
     "text": [
      "<class 'int'>\n",
      "<class 'str'>\n"
     ]
    },
    {
     "ename": "TypeError",
     "evalue": "must be str, not int",
     "output_type": "error",
     "traceback": [
      "\u001b[1;31m---------------------------------------------------------------------------\u001b[0m",
      "\u001b[1;31mTypeError\u001b[0m                                 Traceback (most recent call last)",
      "\u001b[1;32m<ipython-input-68-5200b2767288>\u001b[0m in \u001b[0;36m<module>\u001b[1;34m\u001b[0m\n\u001b[0;32m      7\u001b[0m \u001b[0mprint\u001b[0m\u001b[1;33m(\u001b[0m\u001b[0mtype\u001b[0m\u001b[1;33m(\u001b[0m\u001b[0mage\u001b[0m\u001b[1;33m)\u001b[0m\u001b[1;33m)\u001b[0m\u001b[1;33m\u001b[0m\u001b[0m\n\u001b[0;32m      8\u001b[0m \u001b[0mprint\u001b[0m\u001b[1;33m(\u001b[0m\u001b[0mtype\u001b[0m\u001b[1;33m(\u001b[0m\u001b[0mname\u001b[0m\u001b[1;33m)\u001b[0m\u001b[1;33m)\u001b[0m\u001b[1;33m\u001b[0m\u001b[0m\n\u001b[1;32m----> 9\u001b[1;33m \u001b[0mprint\u001b[0m\u001b[1;33m(\u001b[0m\u001b[0mname\u001b[0m\u001b[1;33m+\u001b[0m\u001b[0mage\u001b[0m\u001b[1;33m)\u001b[0m\u001b[1;33m\u001b[0m\u001b[0m\n\u001b[0m",
      "\u001b[1;31mTypeError\u001b[0m: must be str, not int"
     ]
    }
   ],
   "source": [
    "# + will concate if both varibales are string\n",
    "# + will do addition if both varibales are numbers\n",
    "# if 1 variable is string and 1 variable in number,\n",
    "# TypeError will be generated\n",
    "age=23\n",
    "name=\"amol\"\n",
    "print(type(age))\n",
    "print(type(name))\n",
    "print(name+age)"
   ]
  },
  {
   "cell_type": "markdown",
   "metadata": {},
   "source": [
    "### Global variables and Local Variables\n"
   ]
  },
  {
   "cell_type": "code",
   "execution_count": 76,
   "metadata": {},
   "outputs": [],
   "source": [
    "# Global variable is created outside all functions \n",
    "# (normally at top)so it will be accessible to all functions\n",
    "\n",
    "# Local Variable -local variable is variable which is created \n",
    "# inside function, it will not be accessed outside the scope\n",
    "#(same function)"
   ]
  },
  {
   "cell_type": "code",
   "execution_count": 78,
   "metadata": {},
   "outputs": [
    {
     "name": "stdout",
     "output_type": "stream",
     "text": [
      "python is  awesome\n"
     ]
    }
   ],
   "source": [
    "str1=\"awesome\"  # global variable\n",
    "# create function\n",
    "def fun1():\n",
    "    print(\"python is \",str1)\n",
    "fun1()  # function Call"
   ]
  },
  {
   "cell_type": "code",
   "execution_count": 81,
   "metadata": {},
   "outputs": [
    {
     "ename": "NameError",
     "evalue": "name 'str11' is not defined",
     "output_type": "error",
     "traceback": [
      "\u001b[1;31m---------------------------------------------------------------------------\u001b[0m",
      "\u001b[1;31mNameError\u001b[0m                                 Traceback (most recent call last)",
      "\u001b[1;32m<ipython-input-81-721e5d21911a>\u001b[0m in \u001b[0;36m<module>\u001b[1;34m\u001b[0m\n\u001b[0;32m      5\u001b[0m     \u001b[0mstr11\u001b[0m\u001b[1;33m=\u001b[0m\u001b[1;34m\"awesome\"\u001b[0m \u001b[1;31m# Local variable\u001b[0m\u001b[1;33m\u001b[0m\u001b[0m\n\u001b[0;32m      6\u001b[0m \u001b[0mfun1\u001b[0m\u001b[1;33m(\u001b[0m\u001b[1;33m)\u001b[0m  \u001b[1;31m# function Call\u001b[0m\u001b[1;33m\u001b[0m\u001b[0m\n\u001b[1;32m----> 7\u001b[1;33m \u001b[0mprint\u001b[0m\u001b[1;33m(\u001b[0m\u001b[1;34m\"python is Awesome\"\u001b[0m\u001b[1;33m,\u001b[0m\u001b[0mstr11\u001b[0m\u001b[1;33m)\u001b[0m\u001b[1;33m\u001b[0m\u001b[0m\n\u001b[0m",
      "\u001b[1;31mNameError\u001b[0m: name 'str11' is not defined"
     ]
    }
   ],
   "source": [
    "# Global Variable Scope - Entire Program\n",
    "# local Variable Scope - Inside the function\n",
    "# create function\n",
    "def fun1():\n",
    "    str11=\"awesome\" # Local variable\n",
    "fun1()  # function Call\n",
    "print(\"python is Awesome\",str11)"
   ]
  },
  {
   "cell_type": "code",
   "execution_count": 83,
   "metadata": {},
   "outputs": [
    {
     "name": "stdout",
     "output_type": "stream",
     "text": [
      "hi\n",
      "hello\n"
     ]
    }
   ],
   "source": [
    "str33=\"hello\"\n",
    "def fun2():\n",
    "    str33=\"hi\"\n",
    "    print(str33)\n",
    "fun2()\n",
    "print(str33)\n"
   ]
  },
  {
   "cell_type": "code",
   "execution_count": 91,
   "metadata": {},
   "outputs": [
    {
     "name": "stdout",
     "output_type": "stream",
     "text": [
      "this is local variable\n"
     ]
    }
   ],
   "source": [
    "# using Global keyword we can make local variable global\n",
    "def fun3():\n",
    "    global str44\n",
    "    str44=\"this is local variable\"\n",
    "fun3()\n",
    "print(str44)"
   ]
  },
  {
   "cell_type": "code",
   "execution_count": 94,
   "metadata": {},
   "outputs": [
    {
     "name": "stdout",
     "output_type": "stream",
     "text": [
      "hello\n"
     ]
    }
   ],
   "source": [
    "# we can modify global variable from function also using global kwrd\n",
    "str66=\"hi\"\n",
    "def fun5():\n",
    "    global str66\n",
    "    str66=\"hello\"\n",
    "fun5()\n",
    "print(str66)"
   ]
  },
  {
   "cell_type": "markdown",
   "metadata": {},
   "source": [
    "# Datatypes"
   ]
  },
  {
   "cell_type": "code",
   "execution_count": 115,
   "metadata": {},
   "outputs": [],
   "source": [
    "x='this is string'  # string\n",
    "y=20            # int\n",
    "z=34.45     # float\n",
    "a=23+1j     # complex\n",
    "b=[\"apple\",\"banana\",\"grapes\"]   # list\n",
    "c=(\"apple\",\"banana\",\"grapes\")   # tuple\n",
    "d=range(6)                      # range\n",
    "e={name:\"prathamesh\",age:23}    # dict\n",
    "f={\"mango\",\"orange\",\"pineapple\"} # set\n",
    "g=frozenset({\"mango\",\"orange\",\"pineapple\"})   #fronzenset\n",
    "h=True       # bool\n",
    "i=b\"Hello\"   # bytes\n",
    "j=bytearray(5)   # bytesarray\n",
    "k=memoryview(bytes(5))   # memoryview"
   ]
  },
  {
   "cell_type": "code",
   "execution_count": 121,
   "metadata": {},
   "outputs": [
    {
     "data": {
      "text/plain": [
       "737653756784367842658634856883684589769347589748356794754799479479547674979475"
      ]
     },
     "execution_count": 121,
     "metadata": {},
     "output_type": "execute_result"
    }
   ],
   "source": [
    "# There is No restriction for variable for its size of data\n",
    "num=737653756784367842658634856883684589769347589748356794754799479479547674979475\n",
    "num"
   ]
  },
  {
   "cell_type": "code",
   "execution_count": 129,
   "metadata": {},
   "outputs": [
    {
     "name": "stdout",
     "output_type": "stream",
     "text": [
      "<class 'float'>\n",
      "77.94\n",
      "<class 'int'>\n",
      "77\n",
      "<class 'float'>\n",
      "77.0\n"
     ]
    }
   ],
   "source": [
    "percentage = 77.94\n",
    "print(type(percentage))\n",
    "print(percentage)\n",
    "\n",
    "nv=int(percentage)\n",
    "print(type(nv))\n",
    "print(nv)\n",
    "\n",
    "anv=float(nv)\n",
    "print(type(anv))\n",
    "print(anv)"
   ]
  },
  {
   "cell_type": "code",
   "execution_count": 130,
   "metadata": {},
   "outputs": [],
   "source": [
    "## How to take input from user?\n",
    "## input()- Python 3.x and raw_input()- Python 2.x"
   ]
  },
  {
   "cell_type": "markdown",
   "metadata": {},
   "source": [
    "#### Write a simple Calculator Program"
   ]
  },
  {
   "cell_type": "code",
   "execution_count": 137,
   "metadata": {},
   "outputs": [
    {
     "name": "stdout",
     "output_type": "stream",
     "text": [
      "--------------------------------\n",
      "welcome to calculator\n",
      "--------------------------------\n",
      "Enter First no:65\n",
      "Enter Second no:87\n",
      "\t1.Add\t2.Sub\t3.Mul\t4.Div\t5.Modulus\n",
      "Enter the Choice:\n",
      "1\n",
      "Addition is = 152\n"
     ]
    }
   ],
   "source": [
    "print(\"--------------------------------\")\n",
    "print(\"welcome to calculator\")\n",
    "print(\"--------------------------------\")\n",
    "print(\"Enter First no:\",end=\"\")\n",
    "fn=input()\n",
    "sn=input(\"Enter Second no:\")\n",
    "fn=int(fn)\n",
    "sn=int(sn)\n",
    "print(\"\\t1.Add\\t2.Sub\\t3.Mul\\t4.Div\\t5.Modulus\")\n",
    "print(\"Enter the Choice:\")\n",
    "choice=input()\n",
    "choice=int(choice)\n",
    "if(choice==1):\n",
    "    print(\"Addition is =\",fn+sn)\n",
    "elif(choice==2):\n",
    "    print(\"Subtraction is =\",fn-sn)\n",
    "elif(choice==3):\n",
    "    print(\"Multiplication is =\",fn*sn)\n",
    "elif(choice==4):\n",
    "    print(\"Division is =\",fn/sn)\n",
    "elif(choice==5):\n",
    "    print(\"Remainder is =\",fn%sn)\n",
    "else:\n",
    "    print(\"Invalid Choice\")"
   ]
  },
  {
   "cell_type": "code",
   "execution_count": 139,
   "metadata": {},
   "outputs": [
    {
     "name": "stdout",
     "output_type": "stream",
     "text": [
      "3\n"
     ]
    },
    {
     "data": {
      "text/plain": [
       "str"
      ]
     },
     "execution_count": 139,
     "metadata": {},
     "output_type": "execute_result"
    }
   ],
   "source": [
    "# default type of input taken from user is string\n",
    "no=input()\n",
    "type(no)"
   ]
  },
  {
   "cell_type": "code",
   "execution_count": 143,
   "metadata": {},
   "outputs": [
    {
     "data": {
      "text/plain": [
       "'Assignment No:1 - Accept user name from user, greet him with \\nwelcome message,then ask him to enter his 5 subject marks and \\nfind avg. Give rewards based on his avg category\\n'"
      ]
     },
     "execution_count": 143,
     "metadata": {},
     "output_type": "execute_result"
    }
   ],
   "source": [
    "\"\"\"Assignment No:1 - Accept user name from user, greet him with \n",
    "welcome message,then ask him to enter his 5 subject marks and \n",
    "find avg. Give rewards based on his avg category\n",
    "\"\"\""
   ]
  },
  {
   "cell_type": "code",
   "execution_count": 144,
   "metadata": {},
   "outputs": [
    {
     "name": "stdout",
     "output_type": "stream",
     "text": [
      "<class 'float'>\n",
      "<class 'float'>\n",
      "<class 'float'>\n"
     ]
    }
   ],
   "source": [
    "x = 1.10\n",
    "y = 1.0\n",
    "z = -35.59\n",
    "print(type(x))\n",
    "print(type(y))\n",
    "print(type(z))"
   ]
  },
  {
   "cell_type": "code",
   "execution_count": 145,
   "metadata": {
    "scrolled": true
   },
   "outputs": [
    {
     "name": "stdout",
     "output_type": "stream",
     "text": [
      "<class 'float'>\n",
      "<class 'float'>\n",
      "<class 'float'>\n",
      "35000.0\n",
      "120000.0\n",
      "-8.77e+101\n"
     ]
    }
   ],
   "source": [
    "x = 35e3\n",
    "y = 12E4\n",
    "z = -87.7e100\n",
    "print(type(x))\n",
    "print(type(y))\n",
    "print(type(z))\n",
    "print(x)\n",
    "print(y)\n",
    "print(z)"
   ]
  },
  {
   "cell_type": "code",
   "execution_count": 146,
   "metadata": {},
   "outputs": [
    {
     "name": "stdout",
     "output_type": "stream",
     "text": [
      "<class 'complex'>\n",
      "<class 'complex'>\n",
      "<class 'complex'>\n"
     ]
    }
   ],
   "source": [
    "x = 3+5j\n",
    "y = 5j\n",
    "z = -5j\n",
    "print(type(x))\n",
    "print(type(y))\n",
    "print(type(z))"
   ]
  },
  {
   "cell_type": "code",
   "execution_count": 153,
   "metadata": {},
   "outputs": [
    {
     "name": "stdout",
     "output_type": "stream",
     "text": [
      "['apple', 'banana', 'grapes', 'orange']\n",
      "['apple', 'kiwy', 'grapes', 'orange']\n"
     ]
    },
    {
     "ename": "TypeError",
     "evalue": "'frozenset' object does not support item assignment",
     "output_type": "error",
     "traceback": [
      "\u001b[1;31m---------------------------------------------------------------------------\u001b[0m",
      "\u001b[1;31mTypeError\u001b[0m                                 Traceback (most recent call last)",
      "\u001b[1;32m<ipython-input-153-d6f61772c7b2>\u001b[0m in \u001b[0;36m<module>\u001b[1;34m\u001b[0m\n\u001b[0;32m      5\u001b[0m \u001b[0mprint\u001b[0m\u001b[1;33m(\u001b[0m\u001b[0mfruitlist\u001b[0m\u001b[1;33m)\u001b[0m\u001b[1;33m\u001b[0m\u001b[0m\n\u001b[0;32m      6\u001b[0m \u001b[0mmyfruitlist\u001b[0m\u001b[1;33m=\u001b[0m\u001b[0mfrozenset\u001b[0m\u001b[1;33m(\u001b[0m\u001b[0mfruitlist\u001b[0m\u001b[1;33m)\u001b[0m\u001b[1;33m\u001b[0m\u001b[0m\n\u001b[1;32m----> 7\u001b[1;33m \u001b[0mmyfruitlist\u001b[0m\u001b[1;33m[\u001b[0m\u001b[1;36m3\u001b[0m\u001b[1;33m]\u001b[0m\u001b[1;33m=\u001b[0m\u001b[1;34m\"coconuts\"\u001b[0m\u001b[1;33m\u001b[0m\u001b[0m\n\u001b[0m",
      "\u001b[1;31mTypeError\u001b[0m: 'frozenset' object does not support item assignment"
     ]
    }
   ],
   "source": [
    "### frozonset will make object unchangeable\n",
    "fruitlist=[\"apple\",\"banana\",\"grapes\",\"orange\"]\n",
    "print(fruitlist)\n",
    "fruitlist[1]=\"kiwy\"\n",
    "print(fruitlist)\n",
    "myfruitlist=frozenset(fruitlist)\n",
    "myfruitlist[3]=\"coconuts\""
   ]
  },
  {
   "cell_type": "code",
   "execution_count": 164,
   "metadata": {},
   "outputs": [
    {
     "name": "stdout",
     "output_type": "stream",
     "text": [
      "b'\\xff\\xfep\\x00y\\x00t\\x00h\\x00o\\x00n\\x00 \\x00i\\x00s\\x00 \\x00i\\x00n\\x00t\\x00e\\x00r\\x00e\\x00s\\x00t\\x00i\\x00n\\x00g\\x00'\n"
     ]
    }
   ],
   "source": [
    "# Bytes Datatypes\n",
    "str=\"python is interesting\"\n",
    "arr=bytes(str,'utf-16')\n",
    "print(arr)"
   ]
  },
  {
   "cell_type": "code",
   "execution_count": 165,
   "metadata": {},
   "outputs": [
    {
     "name": "stdout",
     "output_type": "stream",
     "text": [
      "b'\\x00\\x00\\x00\\x00\\x00'\n"
     ]
    }
   ],
   "source": [
    "size = 5\n",
    "arr = bytes(size)\n",
    "print(arr)"
   ]
  },
  {
   "cell_type": "code",
   "execution_count": 168,
   "metadata": {},
   "outputs": [
    {
     "name": "stdout",
     "output_type": "stream",
     "text": [
      "bytearray(b'\\x00\\x00\\x00')\n",
      "bytearray(b'\\x006\\x00')\n"
     ]
    }
   ],
   "source": [
    "# Byte Array\n",
    "size = 3\n",
    "# will create an array of given size and initialize with null bytes\n",
    "array1 = bytearray(size)\n",
    "print(array1)\n",
    "array1[1]=54\n",
    "print(array1)"
   ]
  },
  {
   "cell_type": "code",
   "execution_count": 172,
   "metadata": {},
   "outputs": [
    {
     "name": "stdout",
     "output_type": "stream",
     "text": [
      "Before update: bytearray(b'demo')\n",
      "After update: bytearray(b'deTo')\n"
     ]
    }
   ],
   "source": [
    "#MemoryView-allow direct r&w access to object’s byte-oriented data\n",
    "str=\"demo\"\n",
    "byte_array = bytearray(str11, 'utf-8')\n",
    "print('Before update:', byte_array)\n",
    "\n",
    "mem_view = memoryview(byte_array)\n",
    "# update 2nd index of mem_view to J\n",
    "mem_view[2]= 84\n",
    "print('After update:', byte_array)"
   ]
  },
  {
   "cell_type": "code",
   "execution_count": 174,
   "metadata": {},
   "outputs": [
    {
     "name": "stdout",
     "output_type": "stream",
     "text": [
      "Package             Version   \n",
      "------------------- ----------\n",
      "altgraph            0.16.1    \n",
      "attrs               19.1.0    \n",
      "backcall            0.1.0     \n",
      "beautifulsoup4      4.6.3     \n",
      "bitarray            1.0.1     \n",
      "bleach              3.1.0     \n",
      "bs4                 0.0.1     \n",
      "camelcase           0.2       \n",
      "certifi             2018.10.15\n",
      "chardet             3.0.4     \n",
      "Click               7.0       \n",
      "colorama            0.4.1     \n",
      "cx-Freeze           5.1.1     \n",
      "cycler              0.10.0    \n",
      "decorator           4.4.0     \n",
      "defusedxml          0.6.0     \n",
      "entrypoints         0.3       \n",
      "future              0.16.0    \n",
      "gTTS                2.0.1     \n",
      "gTTS-token          1.1.2     \n",
      "h5py                2.9.0     \n",
      "idna                2.7       \n",
      "ipykernel           5.1.0     \n",
      "ipython             7.5.0     \n",
      "ipython-genutils    0.2.0     \n",
      "ipywidgets          7.4.2     \n",
      "jedi                0.13.3    \n",
      "Jinja2              2.10.1    \n",
      "jsonschema          3.0.1     \n",
      "jupyter             1.0.0     \n",
      "jupyter-client      5.2.4     \n",
      "jupyter-console     6.0.0     \n",
      "jupyter-core        4.4.0     \n",
      "Keras               2.2.4     \n",
      "Keras-Applications  1.0.8     \n",
      "Keras-Preprocessing 1.1.0     \n",
      "kiwisolver          1.0.1     \n",
      "macholib            1.11      \n",
      "MarkupSafe          1.1.1     \n",
      "matplotlib          3.0.0     \n",
      "mistune             0.8.4     \n",
      "mmh3                2.5.1     \n",
      "nbconvert           5.5.0     \n",
      "nbformat            4.4.0     \n",
      "networkx            2.3       \n",
      "notebook            5.7.8     \n",
      "numpy               1.15.2    \n",
      "opencv-python       3.4.3.18  \n",
      "pandas              0.23.4    \n",
      "pandocfilters       1.4.2     \n",
      "parso               0.4.0     \n",
      "pefile              2018.8.8  \n",
      "pickleshare         0.7.5     \n",
      "Pillow              5.3.0     \n",
      "pip                 19.3.1    \n",
      "prometheus-client   0.6.0     \n",
      "prompt-toolkit      2.0.9     \n",
      "Pygments            2.4.0     \n",
      "PyInstaller         3.4       \n",
      "pyparsing           2.2.2     \n",
      "pyrsistent          0.15.2    \n",
      "pytesseract         0.2.5     \n",
      "python-dateutil     2.7.3     \n",
      "pytz                2018.5    \n",
      "pywin32-ctypes      0.2.0     \n",
      "pywinpty            0.5.5     \n",
      "PyYAML              5.1.1     \n",
      "pyzmq               18.0.1    \n",
      "qtconsole           4.4.4     \n",
      "requests            2.20.0    \n",
      "scikit-learn        0.20.0    \n",
      "scipy               1.1.0     \n",
      "seaborn             0.9.0     \n",
      "Send2Trash          1.5.0     \n",
      "setuptools          28.8.0    \n",
      "six                 1.11.0    \n",
      "sklearn             0.0       \n",
      "terminado           0.8.2     \n",
      "testpath            0.4.2     \n",
      "tornado             6.0.2     \n",
      "traitlets           4.3.2     \n",
      "urllib3             1.24      \n",
      "wcwidth             0.1.7     \n",
      "webencodings        0.5.1     \n",
      "wheel               0.33.6    \n",
      "widgetsnbextension  3.4.2     \n",
      "word2number         1.1       \n",
      "Note: you may need to restart the kernel to use updated packages.\n"
     ]
    }
   ],
   "source": [
    "pip list"
   ]
  },
  {
   "cell_type": "code",
   "execution_count": 2,
   "metadata": {},
   "outputs": [],
   "source": [
    "from word2number import w2n"
   ]
  },
  {
   "cell_type": "code",
   "execution_count": 3,
   "metadata": {},
   "outputs": [
    {
     "name": "stdout",
     "output_type": "stream",
     "text": [
      "1034\n"
     ]
    }
   ],
   "source": [
    "print(w2n.word_to_num(\"one thousand thirty four\"))"
   ]
  },
  {
   "cell_type": "code",
   "execution_count": 5,
   "metadata": {},
   "outputs": [
    {
     "name": "stdout",
     "output_type": "stream",
     "text": [
      "2.3\n"
     ]
    }
   ],
   "source": [
    "print(w2n.word_to_num(\"two point three\"))"
   ]
  },
  {
   "cell_type": "code",
   "execution_count": 191,
   "metadata": {},
   "outputs": [],
   "source": [
    "# How to Generate random Numbers for lottery Appln\n",
    "import random"
   ]
  },
  {
   "cell_type": "code",
   "execution_count": 193,
   "metadata": {},
   "outputs": [
    {
     "name": "stdout",
     "output_type": "stream",
     "text": [
      "lottery winner no is:  23\n"
     ]
    }
   ],
   "source": [
    "winner=random.randrange(3,1000)\n",
    "naren=23\n",
    "print(\"lottery winner no is: \",naren)"
   ]
  },
  {
   "cell_type": "markdown",
   "metadata": {},
   "source": [
    "### Strings"
   ]
  },
  {
   "cell_type": "code",
   "execution_count": 194,
   "metadata": {},
   "outputs": [
    {
     "name": "stdout",
     "output_type": "stream",
     "text": [
      "priyanka\n",
      "sayali\n"
     ]
    }
   ],
   "source": [
    "# strings are represented in single or double quote\n",
    "name=\"priyanka\"\n",
    "name1='sayali'\n",
    "print(name)\n",
    "print(name1)"
   ]
  },
  {
   "cell_type": "code",
   "execution_count": 196,
   "metadata": {},
   "outputs": [
    {
     "name": "stdout",
     "output_type": "stream",
     "text": [
      "This \n",
      "is \n",
      "very \n",
      "large \n",
      "string\n",
      "\n"
     ]
    }
   ],
   "source": [
    "# strings are nothing but array of characters\n",
    "str1=\"\"\"This \n",
    "is \n",
    "very \n",
    "large \n",
    "string\n",
    "\"\"\"\n",
    "\n",
    "print(str1)"
   ]
  },
  {
   "cell_type": "code",
   "execution_count": 197,
   "metadata": {},
   "outputs": [
    {
     "name": "stdout",
     "output_type": "stream",
     "text": [
      "This \n",
      "is \n",
      "very \n",
      "large \n",
      "string\n",
      "\n"
     ]
    }
   ],
   "source": [
    "str1='''This \n",
    "is \n",
    "very \n",
    "large \n",
    "string\n",
    "'''\n",
    "print(str1)"
   ]
  },
  {
   "cell_type": "code",
   "execution_count": 201,
   "metadata": {},
   "outputs": [],
   "source": [
    "name='Python is \"fantastic\"'"
   ]
  },
  {
   "cell_type": "code",
   "execution_count": 203,
   "metadata": {},
   "outputs": [
    {
     "name": "stdout",
     "output_type": "stream",
     "text": [
      "Python is \"fantastic\"\n"
     ]
    }
   ],
   "source": [
    "print(name)"
   ]
  },
  {
   "cell_type": "code",
   "execution_count": 206,
   "metadata": {},
   "outputs": [
    {
     "data": {
      "text/plain": [
       "'Python is \"fantastic\"Python is \"fantastic\"Python is \"fantastic\"Python is \"fantastic\"Python is \"fantastic\"Python is \"fantastic\"Python is \"fantastic\"Python is \"fantastic\"Python is \"fantastic\"Python is \"fantastic\"Python is \"fantastic\"Python is \"fantastic\"Python is \"fantastic\"Python is \"fantastic\"Python is \"fantastic\"Python is \"fantastic\"Python is \"fantastic\"Python is \"fantastic\"Python is \"fantastic\"Python is \"fantastic\"Python is \"fantastic\"Python is \"fantastic\"Python is \"fantastic\"Python is \"fantastic\"Python is \"fantastic\"Python is \"fantastic\"Python is \"fantastic\"Python is \"fantastic\"Python is \"fantastic\"Python is \"fantastic\"Python is \"fantastic\"Python is \"fantastic\"Python is \"fantastic\"Python is \"fantastic\"Python is \"fantastic\"Python is \"fantastic\"Python is \"fantastic\"Python is \"fantastic\"Python is \"fantastic\"Python is \"fantastic\"Python is \"fantastic\"Python is \"fantastic\"Python is \"fantastic\"Python is \"fantastic\"Python is \"fantastic\"Python is \"fantastic\"Python is \"fantastic\"Python is \"fantastic\"Python is \"fantastic\"Python is \"fantastic\"Python is \"fantastic\"Python is \"fantastic\"Python is \"fantastic\"Python is \"fantastic\"Python is \"fantastic\"Python is \"fantastic\"Python is \"fantastic\"Python is \"fantastic\"Python is \"fantastic\"Python is \"fantastic\"Python is \"fantastic\"Python is \"fantastic\"Python is \"fantastic\"Python is \"fantastic\"Python is \"fantastic\"Python is \"fantastic\"Python is \"fantastic\"Python is \"fantastic\"Python is \"fantastic\"Python is \"fantastic\"Python is \"fantastic\"Python is \"fantastic\"Python is \"fantastic\"Python is \"fantastic\"Python is \"fantastic\"Python is \"fantastic\"Python is \"fantastic\"Python is \"fantastic\"Python is \"fantastic\"Python is \"fantastic\"Python is \"fantastic\"Python is \"fantastic\"Python is \"fantastic\"Python is \"fantastic\"Python is \"fantastic\"Python is \"fantastic\"Python is \"fantastic\"Python is \"fantastic\"Python is \"fantastic\"Python is \"fantastic\"Python is \"fantastic\"Python is \"fantastic\"Python is \"fantastic\"Python is \"fantastic\"Python is \"fantastic\"Python is \"fantastic\"Python is \"fantastic\"Python is \"fantastic\"Python is \"fantastic\"Python is \"fantastic\"'"
      ]
     },
     "execution_count": 206,
     "metadata": {},
     "output_type": "execute_result"
    }
   ],
   "source": [
    "# string Repeatation\n",
    "name*100"
   ]
  },
  {
   "cell_type": "code",
   "execution_count": 207,
   "metadata": {},
   "outputs": [],
   "source": [
    "## Accessing String Elements"
   ]
  },
  {
   "cell_type": "code",
   "execution_count": 7,
   "metadata": {},
   "outputs": [],
   "source": [
    "str1=\"Python is fantastic\""
   ]
  },
  {
   "cell_type": "code",
   "execution_count": 8,
   "metadata": {},
   "outputs": [
    {
     "data": {
      "text/plain": [
       "'i'"
      ]
     },
     "execution_count": 8,
     "metadata": {},
     "output_type": "execute_result"
    }
   ],
   "source": [
    "str1[7]"
   ]
  },
  {
   "cell_type": "code",
   "execution_count": 9,
   "metadata": {},
   "outputs": [
    {
     "name": "stdout",
     "output_type": "stream",
     "text": [
      "c\n",
      "f\n"
     ]
    }
   ],
   "source": [
    "## Negative Indexing - starts with end\n",
    "print(str1[-1]);print(str1[-9])"
   ]
  },
  {
   "cell_type": "code",
   "execution_count": 10,
   "metadata": {},
   "outputs": [
    {
     "data": {
      "text/plain": [
       "'thon '"
      ]
     },
     "execution_count": 10,
     "metadata": {},
     "output_type": "execute_result"
    }
   ],
   "source": [
    "# Slicing\n",
    "str2=str1[2:7]\n",
    "str2"
   ]
  },
  {
   "cell_type": "code",
   "execution_count": 221,
   "metadata": {},
   "outputs": [
    {
     "data": {
      "text/plain": [
       "'thon   is fantastic'"
      ]
     },
     "execution_count": 221,
     "metadata": {},
     "output_type": "execute_result"
    }
   ],
   "source": [
    "str1[2:]"
   ]
  },
  {
   "cell_type": "code",
   "execution_count": 224,
   "metadata": {},
   "outputs": [
    {
     "data": {
      "text/plain": [
       "'Python   is fant'"
      ]
     },
     "execution_count": 224,
     "metadata": {},
     "output_type": "execute_result"
    }
   ],
   "source": [
    "str1[:16]"
   ]
  },
  {
   "cell_type": "code",
   "execution_count": 225,
   "metadata": {},
   "outputs": [
    {
     "data": {
      "text/plain": [
       "21"
      ]
     },
     "execution_count": 225,
     "metadata": {},
     "output_type": "execute_result"
    }
   ],
   "source": [
    "len(str1)"
   ]
  },
  {
   "cell_type": "code",
   "execution_count": 226,
   "metadata": {},
   "outputs": [
    {
     "data": {
      "text/plain": [
       "'Python   is fant'"
      ]
     },
     "execution_count": 226,
     "metadata": {},
     "output_type": "execute_result"
    }
   ],
   "source": [
    "str1[-21:-5]"
   ]
  },
  {
   "cell_type": "code",
   "execution_count": 227,
   "metadata": {},
   "outputs": [],
   "source": [
    "### String Methods"
   ]
  },
  {
   "cell_type": "code",
   "execution_count": 228,
   "metadata": {},
   "outputs": [],
   "source": [
    "name=\"  Hello World  !!  \""
   ]
  },
  {
   "cell_type": "code",
   "execution_count": 229,
   "metadata": {},
   "outputs": [
    {
     "name": "stdout",
     "output_type": "stream",
     "text": [
      "Hello World  !!\n"
     ]
    }
   ],
   "source": [
    "# 1. Striping Method\n",
    "print(name.strip())"
   ]
  },
  {
   "cell_type": "code",
   "execution_count": 230,
   "metadata": {},
   "outputs": [
    {
     "name": "stdout",
     "output_type": "stream",
     "text": [
      "  hello world  !!  \n"
     ]
    }
   ],
   "source": [
    "# 2. lower Method\n",
    "print(name.lower())"
   ]
  },
  {
   "cell_type": "code",
   "execution_count": 231,
   "metadata": {},
   "outputs": [
    {
     "name": "stdout",
     "output_type": "stream",
     "text": [
      "  HELLO WORLD  !!  \n"
     ]
    }
   ],
   "source": [
    "# 3. Upper Method\n",
    "print(name.upper())"
   ]
  },
  {
   "cell_type": "code",
   "execution_count": 232,
   "metadata": {},
   "outputs": [
    {
     "name": "stdout",
     "output_type": "stream",
     "text": [
      "  Tello World  !!  \n"
     ]
    }
   ],
   "source": [
    "# 4. Replace Method\n",
    "print(name.replace(\"H\",\"T\"))"
   ]
  },
  {
   "cell_type": "code",
   "execution_count": 236,
   "metadata": {},
   "outputs": [
    {
     "name": "stdout",
     "output_type": "stream",
     "text": [
      "['Hello', ' World']\n",
      "Hello\n",
      " World\n"
     ]
    }
   ],
   "source": [
    "# 5. Split Method\n",
    "name=\"Hello, World\"\n",
    "print(name.split(\",\"))\n",
    "str1,str2=name.split(\",\")\n",
    "print(str1)\n",
    "print(str2)"
   ]
  },
  {
   "cell_type": "code",
   "execution_count": 239,
   "metadata": {},
   "outputs": [
    {
     "name": "stdout",
     "output_type": "stream",
     "text": [
      "not found\n"
     ]
    }
   ],
   "source": [
    "# check substring in main string\n",
    "str1=\"we are in panvel in today\"\n",
    "if \"panvel1\" in str1:\n",
    "    print(\"found\")\n",
    "else:\n",
    "    print(\"not found\")"
   ]
  },
  {
   "cell_type": "code",
   "execution_count": 242,
   "metadata": {},
   "outputs": [
    {
     "name": "stdout",
     "output_type": "stream",
     "text": [
      "demotest\n",
      "demo test\n"
     ]
    }
   ],
   "source": [
    "# Concatination\n",
    "str1=\"demo\"\n",
    "str2=\"test\"\n",
    "str3=str1+str2\n",
    "print(str3)\n",
    "str3=str1+\" \"+str2\n",
    "print(str3)"
   ]
  },
  {
   "cell_type": "code",
   "execution_count": 245,
   "metadata": {},
   "outputs": [
    {
     "name": "stdout",
     "output_type": "stream",
     "text": [
      "hi i am john and my age is 36\n"
     ]
    }
   ],
   "source": [
    "# format - format strings according to requirements\n",
    "age=36\n",
    "txt=\"hi i am john and my age is {}\"\n",
    "print(txt.format(age))"
   ]
  },
  {
   "cell_type": "code",
   "execution_count": 247,
   "metadata": {},
   "outputs": [
    {
     "name": "stdout",
     "output_type": "stream",
     "text": [
      "i have ordered 12 items, each of 10 quantities with price 35\n"
     ]
    }
   ],
   "source": [
    "q=12\n",
    "p=35\n",
    "ino=10\n",
    "order=\"i have ordered {1} items, each of {0} quantities with price {2}\"\n",
    "print(order.format(ino,q,p))"
   ]
  },
  {
   "cell_type": "code",
   "execution_count": 254,
   "metadata": {},
   "outputs": [
    {
     "name": "stdout",
     "output_type": "stream",
     "text": [
      "True\n"
     ]
    }
   ],
   "source": [
    "name=\"vdf\"\n",
    "print(name.isalpha())"
   ]
  },
  {
   "cell_type": "code",
   "execution_count": 11,
   "metadata": {},
   "outputs": [],
   "source": [
    "name=\"amol\""
   ]
  },
  {
   "cell_type": "code",
   "execution_count": 12,
   "metadata": {},
   "outputs": [],
   "source": [
    "sname=name"
   ]
  },
  {
   "cell_type": "code",
   "execution_count": 13,
   "metadata": {},
   "outputs": [
    {
     "data": {
      "text/plain": [
       "'amol'"
      ]
     },
     "execution_count": 13,
     "metadata": {},
     "output_type": "execute_result"
    }
   ],
   "source": [
    "sname"
   ]
  },
  {
   "cell_type": "code",
   "execution_count": 14,
   "metadata": {},
   "outputs": [
    {
     "data": {
      "text/plain": [
       "'amol'"
      ]
     },
     "execution_count": 14,
     "metadata": {},
     "output_type": "execute_result"
    }
   ],
   "source": [
    "name"
   ]
  },
  {
   "cell_type": "code",
   "execution_count": 15,
   "metadata": {},
   "outputs": [],
   "source": [
    "name=\" amol patil\""
   ]
  },
  {
   "cell_type": "code",
   "execution_count": 16,
   "metadata": {},
   "outputs": [
    {
     "data": {
      "text/plain": [
       "'amol'"
      ]
     },
     "execution_count": 16,
     "metadata": {},
     "output_type": "execute_result"
    }
   ],
   "source": [
    "sname"
   ]
  },
  {
   "cell_type": "code",
   "execution_count": null,
   "metadata": {},
   "outputs": [],
   "source": []
  }
 ],
 "metadata": {
  "kernelspec": {
   "display_name": "Python 3",
   "language": "python",
   "name": "python3"
  },
  "language_info": {
   "codemirror_mode": {
    "name": "ipython",
    "version": 3
   },
   "file_extension": ".py",
   "mimetype": "text/x-python",
   "name": "python",
   "nbconvert_exporter": "python",
   "pygments_lexer": "ipython3",
   "version": "3.6.4"
  }
 },
 "nbformat": 4,
 "nbformat_minor": 2
}
