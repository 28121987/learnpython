{
 "cells": [
  {
   "cell_type": "markdown",
   "metadata": {},
   "source": [
    "### Boolean "
   ]
  },
  {
   "cell_type": "code",
   "execution_count": 3,
   "metadata": {},
   "outputs": [
    {
     "name": "stdout",
     "output_type": "stream",
     "text": [
      "True\n",
      "True\n",
      "False\n"
     ]
    }
   ],
   "source": [
    "# boolean has two values  -True or false\n",
    "print(10>3)\n",
    "print(4<=67)\n",
    "print(5<2)"
   ]
  },
  {
   "cell_type": "code",
   "execution_count": 4,
   "metadata": {},
   "outputs": [
    {
     "name": "stdout",
     "output_type": "stream",
     "text": [
      "a is less than b\n"
     ]
    }
   ],
   "source": [
    "a=10\n",
    "b=15\n",
    "if(a<b):\n",
    "    print(\"a is less than b\")\n",
    "else:\n",
    "    print(\"a is not less than b\")"
   ]
  },
  {
   "cell_type": "code",
   "execution_count": 11,
   "metadata": {},
   "outputs": [
    {
     "name": "stdout",
     "output_type": "stream",
     "text": [
      "True\n",
      "False\n",
      "True\n",
      "False\n",
      "True\n"
     ]
    }
   ],
   "source": [
    "print(bool(True))\n",
    "print(bool(False))\n",
    "print(bool(1))\n",
    "print(bool(0))\n",
    "print(bool(45))\n"
   ]
  },
  {
   "cell_type": "code",
   "execution_count": 33,
   "metadata": {},
   "outputs": [
    {
     "name": "stdout",
     "output_type": "stream",
     "text": [
      "True\n",
      "True\n",
      "True\n",
      "False\n",
      "True\n"
     ]
    }
   ],
   "source": [
    "print(bool(-54))\n",
    "print(bool(\"hi\"))\n",
    "print(bool(\"hi ncjsdbfj\"))\n",
    "print(bool(\"\"))\n",
    "print(bool(\" \"))"
   ]
  },
  {
   "cell_type": "code",
   "execution_count": 35,
   "metadata": {},
   "outputs": [
    {
     "name": "stdout",
     "output_type": "stream",
     "text": [
      "True\n",
      "True\n",
      "False\n"
     ]
    }
   ],
   "source": [
    "print(bool(123))\n",
    "print(bool([\"apple\",\"cherry\",\"blackberry\"]))\n",
    "print(bool([]))"
   ]
  },
  {
   "cell_type": "code",
   "execution_count": 37,
   "metadata": {},
   "outputs": [],
   "source": [
    "### most important - Always Remember\n",
    "#[] -> list\n",
    "#() - > tuple\n",
    "#{vala,val2,val3} -> set\n",
    "#{key:value,key:value} -> dict"
   ]
  },
  {
   "cell_type": "code",
   "execution_count": 36,
   "metadata": {},
   "outputs": [
    {
     "name": "stdout",
     "output_type": "stream",
     "text": [
      "False\n",
      "False\n",
      "True\n",
      "False\n"
     ]
    }
   ],
   "source": [
    "print(bool(()))\n",
    "print(bool({}))\n",
    "print(bool({1,2}))\n",
    "print(bool(None))"
   ]
  },
  {
   "cell_type": "code",
   "execution_count": 77,
   "metadata": {},
   "outputs": [
    {
     "name": "stdout",
     "output_type": "stream",
     "text": [
      "False\n",
      "True\n"
     ]
    }
   ],
   "source": [
    "str1=\"%%^\"\n",
    "print(str1.isalnum())\n",
    "str1=\"hello\"\n",
    "print(str1.isalnum())\n"
   ]
  },
  {
   "cell_type": "markdown",
   "metadata": {},
   "source": [
    "#### Conslusion\n",
    "- Most of boolean values are True\n",
    "- Some boolean Values are False"
   ]
  },
  {
   "cell_type": "markdown",
   "metadata": {},
   "source": [
    "### Operators"
   ]
  },
  {
   "cell_type": "markdown",
   "metadata": {},
   "source": [
    "##### Python Supports 7 different types of Operators\n",
    "- Arrithmetic Operators\n",
    "- Assignment Operators\n",
    "- Comparision Operators\n",
    "- Logical Operators\n",
    "- Identity Operators\n",
    "- Membership Operators\n",
    "- Bitwise Operators"
   ]
  },
  {
   "cell_type": "markdown",
   "metadata": {},
   "source": [
    "Lets Discuss one by one\n",
    "##### Arrithmetic Operators"
   ]
  },
  {
   "cell_type": "code",
   "execution_count": 40,
   "metadata": {},
   "outputs": [
    {
     "name": "stdout",
     "output_type": "stream",
     "text": [
      "Enter your name:Swami\n",
      "Welcome Swami We are learning arrithmetic operators..\n",
      "Enter Number1:43\n",
      "Enter Number2:19\n",
      "Addition is: 62\n",
      "Subtraction is: 24\n",
      "Multiplication is: 817\n",
      "Division is: 2.263157894736842\n",
      "Remainder is: 5\n",
      "Exponentiation is: 10861771343660416614908294685907\n",
      "Floor Division is: 2\n"
     ]
    }
   ],
   "source": [
    "name=input(\"Enter your name:\")\n",
    "print(\"Welcome \"+name+\" We are learning arrithmetic operators..\")\n",
    "num1=int(input(\"Enter Number1:\"))\n",
    "num2=int(input(\"Enter Number2:\"))\n",
    "print(\"Addition is:\",num1+num2)\n",
    "print(\"Subtraction is:\",num1-num2)\n",
    "print(\"Multiplication is:\",num1*num2)\n",
    "print(\"Division is:\",num1/num2)\n",
    "print(\"Remainder is:\",num1%num2)\n",
    "print(\"Exponentiation is:\",num1**num2)\n",
    "print(\"Floor Division is:\",num1//num2)"
   ]
  },
  {
   "cell_type": "markdown",
   "metadata": {},
   "source": [
    "##### Assignment Operators"
   ]
  },
  {
   "cell_type": "code",
   "execution_count": 42,
   "metadata": {},
   "outputs": [
    {
     "name": "stdout",
     "output_type": "stream",
     "text": [
      "10\n",
      "15\n",
      "8\n",
      "32\n",
      "10.666666666666666\n",
      "2.666666666666666\n",
      "0.0\n",
      "0.0\n"
     ]
    }
   ],
   "source": [
    "# python have 13 Assignment Operators\n",
    "a=10\n",
    "print(a)\n",
    "a+=5  # a=a+5\n",
    "print(a)\n",
    "a-=7  # a=a-5\n",
    "print(a)\n",
    "a*=4  # a=a*5\n",
    "print(a)\n",
    "a/=3  # a=a/5\n",
    "print(a)\n",
    "a%=4   # a=a%5\n",
    "print(a)\n",
    "a//=3   # a=a//5\n",
    "print(a)\n",
    "a**=5   # a=a**5\n",
    "print(a)"
   ]
  },
  {
   "cell_type": "code",
   "execution_count": 49,
   "metadata": {},
   "outputs": [
    {
     "name": "stdout",
     "output_type": "stream",
     "text": [
      "2\n",
      "2\n",
      "6\n",
      "3\n",
      "1\n",
      "32\n"
     ]
    }
   ],
   "source": [
    "# & - Bitwise and, | -bitwise OR, ^ - bitwise XOR, \n",
    "a=2\n",
    "print(a)\n",
    "a&=3  # a=a&3, a=2&3, a=010 & 011, a=010, a=2\n",
    "print(a)\n",
    "a|=4  # a=a|4, a=2|4, a=010 | 100, a=110, a=6\n",
    "print(a)\n",
    "a^=5  # a=a^5, a=6^5, a=110 ^ 101, a=011, a=3\n",
    "print(a)\n",
    "\n",
    "# this is right shift -> to make number half\n",
    "a>>=1  # a=a>>1, a=3>>1, a=001, a=1\n",
    "print(a)\n",
    "\n",
    "# this is left shift -> to double the number\n",
    "a<<=5\n",
    "print(a)"
   ]
  },
  {
   "cell_type": "code",
   "execution_count": 52,
   "metadata": {},
   "outputs": [
    {
     "data": {
      "text/plain": [
       "'\\n>> - Right shift -halfs the number\\n<< - Left Shift - double the number\\n'"
      ]
     },
     "execution_count": 52,
     "metadata": {},
     "output_type": "execute_result"
    }
   ],
   "source": [
    "\"\"\"\n",
    ">> - Right shift -halfs the number\n",
    "<< - Left Shift - double the number\n",
    "\"\"\""
   ]
  },
  {
   "cell_type": "markdown",
   "metadata": {},
   "source": [
    "##### Comparision Operators"
   ]
  },
  {
   "cell_type": "markdown",
   "metadata": {},
   "source": [
    "We have 6 comparision operators \n",
    "- Equal to (==)\n",
    "- Not Equal to (!=) \n",
    "- Greater Than (>)\n",
    "- Less than (<)\n",
    "- Greator than equal to (>=) \n",
    "- Less than equal to (<=)"
   ]
  },
  {
   "cell_type": "code",
   "execution_count": 55,
   "metadata": {},
   "outputs": [
    {
     "name": "stdout",
     "output_type": "stream",
     "text": [
      "False\n",
      "True\n",
      "False\n",
      "True\n",
      "False\n",
      "True\n"
     ]
    }
   ],
   "source": [
    "num1=23\n",
    "num2=34\n",
    "print(num1==num2);print(num1!=num2)\n",
    "print(num1>num2);print(num1<num2)\n",
    "print(num1>=num2);print(num1<=num2)\n"
   ]
  },
  {
   "cell_type": "markdown",
   "metadata": {},
   "source": [
    "##### Logical Operators"
   ]
  },
  {
   "cell_type": "markdown",
   "metadata": {},
   "source": [
    "We have 3 logical operators\n",
    "- and\n",
    "- or\n",
    "- not"
   ]
  },
  {
   "cell_type": "code",
   "execution_count": 56,
   "metadata": {},
   "outputs": [
    {
     "name": "stdout",
     "output_type": "stream",
     "text": [
      " First Class\n"
     ]
    }
   ],
   "source": [
    "# Logical and\n",
    "marks=65\n",
    "if marks>60 and marks < 75:\n",
    "    print(\" First Class\")"
   ]
  },
  {
   "cell_type": "code",
   "execution_count": 57,
   "metadata": {},
   "outputs": [
    {
     "name": "stdout",
     "output_type": "stream",
     "text": [
      " Not Distinction\n"
     ]
    }
   ],
   "source": [
    "# Logical or\n",
    "marks=65\n",
    "if marks<60 or marks < 75:\n",
    "    print(\" Not Distinction\")"
   ]
  },
  {
   "cell_type": "code",
   "execution_count": 59,
   "metadata": {},
   "outputs": [
    {
     "name": "stdout",
     "output_type": "stream",
     "text": [
      "False\n"
     ]
    }
   ],
   "source": [
    "# Logical not\n",
    "marks=65\n",
    "print(not(marks>60 and marks < 75))"
   ]
  },
  {
   "cell_type": "markdown",
   "metadata": {},
   "source": [
    "##### Identity Operators"
   ]
  },
  {
   "cell_type": "markdown",
   "metadata": {},
   "source": [
    "we have 2 Identity operators\n",
    "1. is\n",
    "2. is not"
   ]
  },
  {
   "cell_type": "code",
   "execution_count": 63,
   "metadata": {},
   "outputs": [
    {
     "name": "stdout",
     "output_type": "stream",
     "text": [
      "True\n",
      "False\n",
      "False\n",
      "True\n"
     ]
    }
   ],
   "source": [
    "num1=45\n",
    "num2=45\n",
    "print(num1 is num2)\n",
    "print(num1 is not num2)\n",
    "num1=45\n",
    "num2=65\n",
    "print(num1 is num2)\n",
    "print(num1 is not num2)"
   ]
  },
  {
   "cell_type": "markdown",
   "metadata": {},
   "source": [
    "##### Membership Operators\n",
    "1. in\n",
    "2. not in"
   ]
  },
  {
   "cell_type": "code",
   "execution_count": 72,
   "metadata": {},
   "outputs": [
    {
     "name": "stdout",
     "output_type": "stream",
     "text": [
      "False\n",
      "True\n",
      "False\n",
      "True\n"
     ]
    }
   ],
   "source": [
    "# lets consider we have a set and check elements are in set or not\n",
    "set1={23,4,66,7,12,99}\n",
    "print(234 in set1)\n",
    "print(7 in set1)\n",
    "print(66 not in set1)\n",
    "print(77 not in set1)"
   ]
  },
  {
   "cell_type": "code",
   "execution_count": 73,
   "metadata": {},
   "outputs": [
    {
     "name": "stdout",
     "output_type": "stream",
     "text": [
      "True\n",
      "False\n",
      "False\n",
      "True\n"
     ]
    }
   ],
   "source": [
    "# lets consider we have a list and check elements are in set or not\n",
    "list1=[\"apple\",\"grapes\",\"kiwy\"]\n",
    "print(\"kiwy\" in list1)\n",
    "print(\"orange\" in list1)\n",
    "print(\"kiwy\" not in list1)\n",
    "print(\"orange\" not in list1)"
   ]
  },
  {
   "cell_type": "code",
   "execution_count": 74,
   "metadata": {},
   "outputs": [
    {
     "name": "stdout",
     "output_type": "stream",
     "text": [
      "False\n",
      "True\n"
     ]
    }
   ],
   "source": [
    "# lets consider we have a Tuple&check elements are in tuple or not\n",
    "tuple1=(23,4,66,7,12,99)\n",
    "print(234 in tuple1)\n",
    "print(999 not in tuple1)"
   ]
  },
  {
   "cell_type": "markdown",
   "metadata": {},
   "source": [
    "##### Bitwise Operators"
   ]
  },
  {
   "cell_type": "markdown",
   "metadata": {},
   "source": [
    "We have 6 bitwise operators\n",
    "1. AND (&)\n",
    "2. OR (|)\n",
    "3. XOR (^)\n",
    "4. NOT (~)\n",
    "5. Left Shif (<<)\n",
    "6. Right Shift (>>)"
   ]
  },
  {
   "cell_type": "markdown",
   "metadata": {},
   "source": [
    "## List"
   ]
  },
  {
   "cell_type": "code",
   "execution_count": 91,
   "metadata": {},
   "outputs": [],
   "source": [
    "# list is ordered collection of dissimilar data elements\n",
    "# list are indexed\n",
    "# list are changeable i.e mutable\n",
    "# list are ordered\n",
    "# [] are used to create list\n",
    "gen_list=[\"apple\",\"mango\",65.76,8j,\"kiwy\",\"orange\",54]\n",
    "# PI         0        1      2    3    4     5       6\n",
    "# NI          -7      -6    -5    -4   -3   -2       -1\n",
    "# PI starts with 0 and it will be from left to Right\n",
    "# NI starts with -1 and it will  be from Right to Left"
   ]
  },
  {
   "cell_type": "code",
   "execution_count": 90,
   "metadata": {},
   "outputs": [
    {
     "name": "stdout",
     "output_type": "stream",
     "text": [
      "<class 'list'>\n",
      "7\n"
     ]
    }
   ],
   "source": [
    "print(type(gen_list))\n",
    "print(len(gen_list))"
   ]
  },
  {
   "cell_type": "markdown",
   "metadata": {},
   "source": [
    "##### How to access Elements of List\n",
    "1. Positive Indexing\n",
    "2. Negative Indexing"
   ]
  },
  {
   "cell_type": "code",
   "execution_count": 93,
   "metadata": {},
   "outputs": [
    {
     "name": "stdout",
     "output_type": "stream",
     "text": [
      "mango\n",
      "mango\n"
     ]
    }
   ],
   "source": [
    "# print Mango\n",
    "print(gen_list[1])\n",
    "print(gen_list[-6])"
   ]
  },
  {
   "cell_type": "markdown",
   "metadata": {},
   "source": [
    "##### Slicing"
   ]
  },
  {
   "cell_type": "code",
   "execution_count": 95,
   "metadata": {},
   "outputs": [
    {
     "name": "stdout",
     "output_type": "stream",
     "text": [
      "[65.76, 8j, 'kiwy', 'orange', 54]\n",
      "[65.76, 8j, 'kiwy', 'orange', 54]\n"
     ]
    }
   ],
   "source": [
    "# print list elements from 65.76 to all remaining elements\n",
    "print(gen_list[2:])\n",
    "print(gen_list[-5:])"
   ]
  },
  {
   "cell_type": "code",
   "execution_count": 102,
   "metadata": {},
   "outputs": [
    {
     "name": "stdout",
     "output_type": "stream",
     "text": [
      "['apple', 'mango', 65.76, 8j, 'kiwy']\n",
      "['apple', 'mango', 65.76, 8j, 'kiwy']\n"
     ]
    }
   ],
   "source": [
    "# print all list elements till kiwy(include kiwy)\n",
    "print(gen_list[:5])\n",
    "print(gen_list[:-2])"
   ]
  },
  {
   "cell_type": "code",
   "execution_count": 103,
   "metadata": {},
   "outputs": [
    {
     "name": "stdout",
     "output_type": "stream",
     "text": [
      "['mango', 65.76, 8j, 'kiwy', 'orange']\n",
      "['mango', 65.76, 8j, 'kiwy', 'orange']\n"
     ]
    }
   ],
   "source": [
    "# Print mango to Orange is PI and NI (Include Both)\n",
    "print(gen_list[1:6])\n",
    "print(gen_list[-6:-1])"
   ]
  },
  {
   "cell_type": "code",
   "execution_count": 106,
   "metadata": {},
   "outputs": [
    {
     "name": "stdout",
     "output_type": "stream",
     "text": [
      "['kiwy', 'orange']\n",
      "2\n"
     ]
    }
   ],
   "source": [
    "# create another list which will contain kiwy and orange element\n",
    "second_list=gen_list[4:6]\n",
    "print(second_list)\n",
    "print(len(second_list))"
   ]
  },
  {
   "cell_type": "code",
   "execution_count": 114,
   "metadata": {},
   "outputs": [
    {
     "name": "stdout",
     "output_type": "stream",
     "text": [
      "apple orange\n",
      "12\n"
     ]
    }
   ],
   "source": [
    "# create apple &orange sublist (concat this way is not recommened )\n",
    "sublist1=gen_list[0]\n",
    "sublist2=gen_list[5]\n",
    "sublist=sublist1+\" \"+sublist2\n",
    "print(sublist)\n",
    "print(len(sublist))"
   ]
  },
  {
   "cell_type": "markdown",
   "metadata": {},
   "source": [
    "##### what is True about list\n",
    "1. List can have any number of elements\n",
    "2. Elements can be of different types (int,float,str,complex etc)\n",
    "3. List can have list as a element"
   ]
  },
  {
   "cell_type": "code",
   "execution_count": 121,
   "metadata": {},
   "outputs": [],
   "source": [
    "## Multidimensional List\n",
    "numbers=[[1,2],[\"three\",\"four\"],[5.0,6.0]]\n",
    " #          0            1           2"
   ]
  },
  {
   "cell_type": "code",
   "execution_count": 117,
   "metadata": {},
   "outputs": [
    {
     "data": {
      "text/plain": [
       "['three', 'four']"
      ]
     },
     "execution_count": 117,
     "metadata": {},
     "output_type": "execute_result"
    }
   ],
   "source": [
    "numbers[1]"
   ]
  },
  {
   "cell_type": "code",
   "execution_count": 120,
   "metadata": {},
   "outputs": [
    {
     "name": "stdout",
     "output_type": "stream",
     "text": [
      "5.0\n",
      "2\n"
     ]
    }
   ],
   "source": [
    "print(numbers[2][0])\n",
    "print(numbers[0][1])"
   ]
  },
  {
   "cell_type": "code",
   "execution_count": 122,
   "metadata": {},
   "outputs": [
    {
     "ename": "IndexError",
     "evalue": "list index out of range",
     "output_type": "error",
     "traceback": [
      "\u001b[1;31m---------------------------------------------------------------------------\u001b[0m",
      "\u001b[1;31mIndexError\u001b[0m                                Traceback (most recent call last)",
      "\u001b[1;32m<ipython-input-122-8608fc38bf23>\u001b[0m in \u001b[0;36m<module>\u001b[1;34m\u001b[0m\n\u001b[1;32m----> 1\u001b[1;33m \u001b[0mnumbers\u001b[0m\u001b[1;33m[\u001b[0m\u001b[1;36m5\u001b[0m\u001b[1;33m]\u001b[0m\u001b[1;33m\u001b[0m\u001b[0m\n\u001b[0m",
      "\u001b[1;31mIndexError\u001b[0m: list index out of range"
     ]
    }
   ],
   "source": [
    "numbers[5]"
   ]
  },
  {
   "cell_type": "code",
   "execution_count": 123,
   "metadata": {},
   "outputs": [],
   "source": [
    "gen_list=[\"apple\",\"mango\",65.76,8j,\"kiwy\",\"orange\",54]"
   ]
  },
  {
   "cell_type": "code",
   "execution_count": 136,
   "metadata": {},
   "outputs": [
    {
     "name": "stdout",
     "output_type": "stream",
     "text": [
      "apple,mango,65.76,8j,kiwy,orange,54,"
     ]
    }
   ],
   "source": [
    "# print the list using loops\n",
    "for i in gen_list:\n",
    "    print(i, end=\",\")"
   ]
  },
  {
   "cell_type": "code",
   "execution_count": 140,
   "metadata": {},
   "outputs": [
    {
     "name": "stdout",
     "output_type": "stream",
     "text": [
      "True\n"
     ]
    }
   ],
   "source": [
    "# check element exist in the list or not?\n",
    "print(\"kiwy\" in gen_list)"
   ]
  },
  {
   "cell_type": "code",
   "execution_count": 141,
   "metadata": {},
   "outputs": [
    {
     "name": "stdout",
     "output_type": "stream",
     "text": [
      "7\n"
     ]
    }
   ],
   "source": [
    "# length of List\n",
    "print(len(gen_list))"
   ]
  },
  {
   "cell_type": "code",
   "execution_count": 150,
   "metadata": {},
   "outputs": [
    {
     "name": "stdout",
     "output_type": "stream",
     "text": [
      "['apple', 'mango', 65.76, 8j, 'kiwy', 'orange', 54, 'pineapple']\n"
     ]
    }
   ],
   "source": [
    "# Add new item in the list\n",
    "gen_list.append(\"pineapple\")\n",
    "print(gen_list)"
   ]
  },
  {
   "cell_type": "code",
   "execution_count": 151,
   "metadata": {},
   "outputs": [
    {
     "name": "stdout",
     "output_type": "stream",
     "text": [
      "['apple', 'mango', 'banana', 65.76, 8j, 'kiwy', 'orange', 54, 'pineapple']\n"
     ]
    }
   ],
   "source": [
    "# insert at specific index\n",
    "gen_list.insert(2,\"banana\")\n",
    "print(gen_list)"
   ]
  },
  {
   "cell_type": "code",
   "execution_count": 152,
   "metadata": {},
   "outputs": [
    {
     "name": "stdout",
     "output_type": "stream",
     "text": [
      "['apple', 'mango', 'banana', 65.76, 'kiwy', 'orange', 54, 'pineapple']\n"
     ]
    }
   ],
   "source": [
    "# how to remove list elements\n",
    "gen_list.remove(8j)\n",
    "print(gen_list)"
   ]
  },
  {
   "cell_type": "code",
   "execution_count": 153,
   "metadata": {},
   "outputs": [
    {
     "name": "stdout",
     "output_type": "stream",
     "text": [
      "['apple', 'mango', 'banana', 'kiwy', 'orange', 54, 'pineapple']\n"
     ]
    }
   ],
   "source": [
    "# removing element using pop with index\n",
    "gen_list.pop(3)\n",
    "print(gen_list)"
   ]
  },
  {
   "cell_type": "code",
   "execution_count": 154,
   "metadata": {},
   "outputs": [
    {
     "name": "stdout",
     "output_type": "stream",
     "text": [
      "['apple', 'mango', 'banana', 'kiwy', 'orange', 54]\n"
     ]
    }
   ],
   "source": [
    "# removing element using pop without index\n",
    "gen_list.pop()\n",
    "print(gen_list)"
   ]
  },
  {
   "cell_type": "code",
   "execution_count": 155,
   "metadata": {},
   "outputs": [
    {
     "name": "stdout",
     "output_type": "stream",
     "text": [
      "['apple', 'mango', 'banana', 'kiwy', 'orange']\n"
     ]
    }
   ],
   "source": [
    "# deleting element using del function with index\n",
    "del gen_list[5]\n",
    "print(gen_list)"
   ]
  },
  {
   "cell_type": "code",
   "execution_count": 168,
   "metadata": {},
   "outputs": [
    {
     "name": "stdout",
     "output_type": "stream",
     "text": [
      "['apple', 'mango', 'banana', 'kiwy', 'orange']\n"
     ]
    }
   ],
   "source": [
    "# this will only create reference to original list\n",
    "# list will not copied\n",
    "copied_list=gen_list\n",
    "print(copied_list)\n",
    "gen_list.append(\"blueberry\")\n",
    "gen_list"
   ]
  },
  {
   "cell_type": "code",
   "execution_count": 160,
   "metadata": {},
   "outputs": [
    {
     "data": {
      "text/plain": [
       "['apple', 'mango', 'banana', 'kiwy', 'orange', 'blueberry']"
      ]
     },
     "execution_count": 160,
     "metadata": {},
     "output_type": "execute_result"
    }
   ],
   "source": [
    "copied_list"
   ]
  },
  {
   "cell_type": "code",
   "execution_count": 169,
   "metadata": {},
   "outputs": [],
   "source": [
    "# proper way to copy the list\n",
    "new_list=gen_list.copy()"
   ]
  },
  {
   "cell_type": "code",
   "execution_count": 170,
   "metadata": {},
   "outputs": [
    {
     "data": {
      "text/plain": [
       "['apple', 'mango', 'banana', 'kiwy', 'orange']"
      ]
     },
     "execution_count": 170,
     "metadata": {},
     "output_type": "execute_result"
    }
   ],
   "source": [
    "new_list"
   ]
  },
  {
   "cell_type": "code",
   "execution_count": 171,
   "metadata": {},
   "outputs": [
    {
     "data": {
      "text/plain": [
       "['apple', 'mango', 'banana', 'kiwy', 'orange']"
      ]
     },
     "execution_count": 171,
     "metadata": {},
     "output_type": "execute_result"
    }
   ],
   "source": [
    "gen_list"
   ]
  },
  {
   "cell_type": "code",
   "execution_count": 173,
   "metadata": {},
   "outputs": [],
   "source": [
    "gen_list.remove(\"banana\")"
   ]
  },
  {
   "cell_type": "code",
   "execution_count": 174,
   "metadata": {},
   "outputs": [
    {
     "data": {
      "text/plain": [
       "['apple', 'mango', 'kiwy', 'orange']"
      ]
     },
     "execution_count": 174,
     "metadata": {},
     "output_type": "execute_result"
    }
   ],
   "source": [
    "gen_list"
   ]
  },
  {
   "cell_type": "code",
   "execution_count": 175,
   "metadata": {},
   "outputs": [
    {
     "data": {
      "text/plain": [
       "['apple', 'mango', 'banana', 'kiwy', 'orange']"
      ]
     },
     "execution_count": 175,
     "metadata": {},
     "output_type": "execute_result"
    }
   ],
   "source": [
    "new_list"
   ]
  },
  {
   "cell_type": "code",
   "execution_count": 176,
   "metadata": {},
   "outputs": [
    {
     "name": "stdout",
     "output_type": "stream",
     "text": [
      "[]\n"
     ]
    }
   ],
   "source": [
    "# how to clear a list - remove all elements from list\n",
    "new_list.clear()\n",
    "print(new_list)"
   ]
  },
  {
   "cell_type": "code",
   "execution_count": 177,
   "metadata": {},
   "outputs": [
    {
     "name": "stdout",
     "output_type": "stream",
     "text": [
      "['C', 'C++', 'Python', 'JAVA', 'C#.net', 'JAVASCRIPT', 'R']\n",
      "['DBMS', 'DS', 'OS', 'Algo']\n"
     ]
    }
   ],
   "source": [
    "# how to join list\n",
    "pl_subjects=[\"C\",\"C++\",\"Python\",\"JAVA\",\"C#.net\",\"JAVASCRIPT\",\"R\"]\n",
    "core_subjects=[\"DBMS\",\"DS\",\"OS\",\"Algo\"]\n",
    "print(pl_subjects)\n",
    "print(core_subjects)"
   ]
  },
  {
   "cell_type": "code",
   "execution_count": 178,
   "metadata": {},
   "outputs": [
    {
     "name": "stdout",
     "output_type": "stream",
     "text": [
      "['C', 'C++', 'Python', 'JAVA', 'C#.net', 'JAVASCRIPT', 'R', 'DBMS', 'DS', 'OS', 'Algo']\n",
      "11\n"
     ]
    }
   ],
   "source": [
    "# Joining by concatination\n",
    "all_subjects=pl_subjects+core_subjects\n",
    "print(all_subjects)\n",
    "print(len(all_subjects))"
   ]
  },
  {
   "cell_type": "code",
   "execution_count": 179,
   "metadata": {},
   "outputs": [
    {
     "data": {
      "text/plain": [
       "['C',\n",
       " 'C++',\n",
       " 'Python',\n",
       " 'JAVA',\n",
       " 'C#.net',\n",
       " 'JAVASCRIPT',\n",
       " 'R',\n",
       " 'DBMS',\n",
       " 'DS',\n",
       " 'OS',\n",
       " 'Algo']"
      ]
     },
     "execution_count": 179,
     "metadata": {},
     "output_type": "execute_result"
    }
   ],
   "source": [
    "all_subjects"
   ]
  },
  {
   "cell_type": "code",
   "execution_count": 180,
   "metadata": {},
   "outputs": [
    {
     "name": "stdout",
     "output_type": "stream",
     "text": [
      "['C', 'C++', 'Python', 'JAVA', 'C#.net', 'JAVASCRIPT', 'R']\n",
      "['DBMS', 'DS', 'OS', 'Algo']\n"
     ]
    }
   ],
   "source": [
    "# joining list using loops\n",
    "print(pl_subjects)\n",
    "print(core_subjects)"
   ]
  },
  {
   "cell_type": "code",
   "execution_count": 181,
   "metadata": {},
   "outputs": [
    {
     "name": "stdout",
     "output_type": "stream",
     "text": [
      "['DBMS', 'DS', 'OS', 'Algo', 'C', 'C++', 'Python', 'JAVA', 'C#.net', 'JAVASCRIPT', 'R']\n"
     ]
    }
   ],
   "source": [
    "for i in pl_subjects:\n",
    "    core_subjects.append(i)\n",
    "print(core_subjects)"
   ]
  },
  {
   "cell_type": "code",
   "execution_count": 182,
   "metadata": {},
   "outputs": [
    {
     "name": "stdout",
     "output_type": "stream",
     "text": [
      "['a', 'b', 'c', 1, 2, 3]\n"
     ]
    }
   ],
   "source": [
    "# joing by extend method\n",
    "list1 = [\"a\", \"b\" , \"c\"]\n",
    "list2 = [1, 2, 3]\n",
    "list1.extend(list2)\n",
    "print(list1)"
   ]
  },
  {
   "cell_type": "code",
   "execution_count": 183,
   "metadata": {},
   "outputs": [
    {
     "name": "stdout",
     "output_type": "stream",
     "text": [
      "['a', 'b', 'c']\n",
      "['a', 'b', 'c']\n"
     ]
    }
   ],
   "source": [
    "# how to create list using constructor way\n",
    "list1=[\"a\",\"b\",\"c\"]  # normal way to create list\n",
    "print(list1)\n",
    "list2=list((\"a\",\"b\",\"c\"))  # constructor way to create list\n",
    "print(list2)"
   ]
  },
  {
   "cell_type": "code",
   "execution_count": null,
   "metadata": {},
   "outputs": [],
   "source": []
  }
 ],
 "metadata": {
  "kernelspec": {
   "display_name": "Python 3",
   "language": "python",
   "name": "python3"
  },
  "language_info": {
   "codemirror_mode": {
    "name": "ipython",
    "version": 3
   },
   "file_extension": ".py",
   "mimetype": "text/x-python",
   "name": "python",
   "nbconvert_exporter": "python",
   "pygments_lexer": "ipython3",
   "version": "3.6.4"
  }
 },
 "nbformat": 4,
 "nbformat_minor": 2
}
