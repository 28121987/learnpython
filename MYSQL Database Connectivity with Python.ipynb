{
 "cells": [
  {
   "cell_type": "markdown",
   "metadata": {},
   "source": [
    "### To connect Mysql with python, driver is needed and that driver name is mysql-connector"
   ]
  },
  {
   "cell_type": "code",
   "execution_count": 1,
   "metadata": {},
   "outputs": [],
   "source": [
    "# Install Mysql Driver -> Mysql-Connector"
   ]
  },
  {
   "cell_type": "code",
   "execution_count": 2,
   "metadata": {},
   "outputs": [
    {
     "name": "stdout",
     "output_type": "stream",
     "text": [
      "Requirement already satisfied: mysql-connector in c:\\users\\administrator\\appdata\\local\\programs\\python\\python36-32\\lib\\site-packages (2.2.9)\n",
      "Note: you may need to restart the kernel to use updated packages.\n"
     ]
    }
   ],
   "source": [
    "pip install mysql-connector"
   ]
  },
  {
   "cell_type": "code",
   "execution_count": 12,
   "metadata": {},
   "outputs": [],
   "source": [
    "# Test it i.e it is installed or not\n",
    "import mysql.connector"
   ]
  },
  {
   "cell_type": "code",
   "execution_count": 27,
   "metadata": {},
   "outputs": [],
   "source": [
    "# create connection\n",
    "mydb=mysql.connector.connect(\n",
    "host=\"localhost\",\n",
    "user=\"root\",\n",
    "passwd=\"\"\n",
    ")"
   ]
  },
  {
   "cell_type": "code",
   "execution_count": 18,
   "metadata": {},
   "outputs": [
    {
     "name": "stdout",
     "output_type": "stream",
     "text": [
      "<mysql.connector.connection.MySQLConnection object at 0x0613CD30>\n"
     ]
    }
   ],
   "source": [
    "print(mydb)"
   ]
  },
  {
   "cell_type": "code",
   "execution_count": 28,
   "metadata": {},
   "outputs": [
    {
     "name": "stdout",
     "output_type": "stream",
     "text": [
      "('information_schema',)\n",
      "('carparkdemo',)\n",
      "('empdb',)\n",
      "('img',)\n",
      "('login',)\n",
      "('magento',)\n",
      "('mydatabase',)\n",
      "('mysql',)\n",
      "('performance_schema',)\n",
      "('prp',)\n",
      "('rait',)\n",
      "('sdemo',)\n",
      "('test',)\n",
      "('wordpress',)\n"
     ]
    }
   ],
   "source": [
    "# first Create cursor to hold data and execute query\n",
    "mycursor = mydb.cursor()\n",
    "mycursor.execute(\"SHOW DATABASES\")\n",
    "for x in mycursor:\n",
    "    print(x)"
   ]
  },
  {
   "cell_type": "code",
   "execution_count": 20,
   "metadata": {},
   "outputs": [],
   "source": [
    "# Create database named empDB\n",
    "mycursor.execute(\"create DATABASE empDB\")"
   ]
  },
  {
   "cell_type": "code",
   "execution_count": 21,
   "metadata": {},
   "outputs": [
    {
     "name": "stdout",
     "output_type": "stream",
     "text": [
      "('information_schema',)\n",
      "('carparkdemo',)\n",
      "('empdb',)\n",
      "('img',)\n",
      "('login',)\n",
      "('magento',)\n",
      "('mydatabase',)\n",
      "('mysql',)\n",
      "('performance_schema',)\n",
      "('prp',)\n",
      "('rait',)\n",
      "('sdemo',)\n",
      "('test',)\n",
      "('wordpress',)\n"
     ]
    }
   ],
   "source": [
    "# Show all databases\n",
    "mycursor.execute(\"show databases\")\n",
    "for x in mycursor:\n",
    "    print(x)"
   ]
  },
  {
   "cell_type": "code",
   "execution_count": 22,
   "metadata": {},
   "outputs": [],
   "source": [
    "# create connection to particular database\n",
    "mydb1=mysql.connector.connect(\n",
    "host=\"localhost\",\n",
    "user=\"root\",\n",
    "passwd=\"\",\n",
    "database=\"empdb\"\n",
    ")"
   ]
  },
  {
   "cell_type": "code",
   "execution_count": 23,
   "metadata": {},
   "outputs": [],
   "source": [
    "mycursor1=mydb1.cursor()"
   ]
  },
  {
   "cell_type": "code",
   "execution_count": 25,
   "metadata": {},
   "outputs": [],
   "source": [
    "# show all tables in empdb databases;\n",
    "mycursor1.execute(\"show tables\")\n",
    "for x in mycursor1:\n",
    "    print(x)"
   ]
  },
  {
   "cell_type": "code",
   "execution_count": 26,
   "metadata": {},
   "outputs": [],
   "source": [
    "# create table emptable with column empID,empName,empAge\n",
    "mycursor1.execute(\"create table emptable(empID int PRIMARY KEY,empName varchar(20),empAge int)\")"
   ]
  },
  {
   "cell_type": "code",
   "execution_count": 31,
   "metadata": {},
   "outputs": [],
   "source": [
    "# See the data from table\n",
    "mycursor1.execute(\"select * from emptable\")\n",
    "result=mycursor1.fetchall()\n",
    "for x in result:\n",
    "    print(x)"
   ]
  },
  {
   "cell_type": "code",
   "execution_count": 38,
   "metadata": {},
   "outputs": [],
   "source": [
    "# How to insert data into table\n",
    "query = \"INSERT INTO emptable VALUES (102,'avishkar',22)\"\n",
    "mycursor1.execute(query)\n",
    "mydb.commit()"
   ]
  },
  {
   "cell_type": "code",
   "execution_count": 39,
   "metadata": {},
   "outputs": [
    {
     "name": "stdout",
     "output_type": "stream",
     "text": [
      "(101, 'yogesh', 21)\n",
      "(102, 'avishkar', 22)\n"
     ]
    }
   ],
   "source": [
    "# See the data from table\n",
    "mycursor1.execute(\"select * from emptable\")\n",
    "result=mycursor1.fetchall()\n",
    "for x in result:\n",
    "    print(x)"
   ]
  },
  {
   "cell_type": "code",
   "execution_count": 41,
   "metadata": {},
   "outputs": [],
   "source": [
    "# how to insert many records\n",
    "query1 = \"INSERT INTO emptable VALUES (103,'avishkar',22)\"\n",
    "query2 = \"INSERT INTO emptable VALUES (104,'avishkar',23)\"\n",
    "query3 = \"INSERT INTO emptable VALUES (105,'pavan',22)\"\n",
    "query4 = \"INSERT INTO emptable VALUES (106,'avishkar',22)\"\n",
    "query5 = \"INSERT INTO emptable VALUES (107,'prathmesh',22)\"\n",
    "query6 = \"INSERT INTO emptable VALUES (108,'avishkar',22)\"\n",
    "query7 = \"INSERT INTO emptable VALUES (109,'avishkar',22)\"\n",
    "mycursor1.execute(query1)\n",
    "mycursor1.execute(query2)\n",
    "mycursor1.execute(query3)\n",
    "mycursor1.execute(query4)\n",
    "mycursor1.execute(query5)\n",
    "mycursor1.execute(query6)\n",
    "mycursor1.execute(query7)\n",
    "mydb.commit()"
   ]
  },
  {
   "cell_type": "code",
   "execution_count": 42,
   "metadata": {},
   "outputs": [
    {
     "name": "stdout",
     "output_type": "stream",
     "text": [
      "(101, 'yogesh', 21)\n",
      "(102, 'avishkar', 22)\n",
      "(103, 'avishkar', 22)\n",
      "(104, 'avishkar', 23)\n",
      "(105, 'pavan', 22)\n",
      "(106, 'avishkar', 22)\n",
      "(107, 'prathmesh', 22)\n",
      "(108, 'avishkar', 22)\n",
      "(109, 'avishkar', 22)\n"
     ]
    }
   ],
   "source": [
    "# See the data from table\n",
    "mycursor1.execute(\"select * from emptable\")\n",
    "result=mycursor1.fetchall()\n",
    "for x in result:\n",
    "    print(x)"
   ]
  },
  {
   "cell_type": "code",
   "execution_count": 43,
   "metadata": {},
   "outputs": [],
   "source": [
    "# delete record from emptable\n",
    "mycursor1.execute(\"delete from emptable where empid=105\")\n",
    "mydb1.commit()"
   ]
  },
  {
   "cell_type": "code",
   "execution_count": 44,
   "metadata": {},
   "outputs": [
    {
     "name": "stdout",
     "output_type": "stream",
     "text": [
      "(101, 'yogesh', 21)\n",
      "(102, 'avishkar', 22)\n",
      "(103, 'avishkar', 22)\n",
      "(104, 'avishkar', 23)\n",
      "(106, 'avishkar', 22)\n",
      "(107, 'prathmesh', 22)\n",
      "(108, 'avishkar', 22)\n",
      "(109, 'avishkar', 22)\n"
     ]
    }
   ],
   "source": [
    "# See the data from table\n",
    "mycursor1.execute(\"select * from emptable\")\n",
    "result=mycursor1.fetchall()\n",
    "for x in result:\n",
    "    print(x)"
   ]
  },
  {
   "cell_type": "code",
   "execution_count": null,
   "metadata": {},
   "outputs": [],
   "source": []
  }
 ],
 "metadata": {
  "kernelspec": {
   "display_name": "Python 3",
   "language": "python",
   "name": "python3"
  },
  "language_info": {
   "codemirror_mode": {
    "name": "ipython",
    "version": 3
   },
   "file_extension": ".py",
   "mimetype": "text/x-python",
   "name": "python",
   "nbconvert_exporter": "python",
   "pygments_lexer": "ipython3",
   "version": "3.6.4"
  }
 },
 "nbformat": 4,
 "nbformat_minor": 2
}
