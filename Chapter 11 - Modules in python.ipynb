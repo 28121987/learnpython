{
 "cells": [
  {
   "cell_type": "code",
   "execution_count": 1,
   "metadata": {},
   "outputs": [],
   "source": [
    "import math"
   ]
  },
  {
   "cell_type": "code",
   "execution_count": 3,
   "metadata": {},
   "outputs": [
    {
     "name": "stdout",
     "output_type": "stream",
     "text": [
      "['__doc__', '__loader__', '__name__', '__package__', '__spec__', 'acos', 'acosh', 'asin', 'asinh', 'atan', 'atan2', 'atanh', 'ceil', 'copysign', 'cos', 'cosh', 'degrees', 'e', 'erf', 'erfc', 'exp', 'expm1', 'fabs', 'factorial', 'floor', 'fmod', 'frexp', 'fsum', 'gamma', 'gcd', 'hypot', 'inf', 'isclose', 'isfinite', 'isinf', 'isnan', 'ldexp', 'lgamma', 'log', 'log10', 'log1p', 'log2', 'modf', 'nan', 'pi', 'pow', 'radians', 'sin', 'sinh', 'sqrt', 'tan', 'tanh', 'tau', 'trunc']\n"
     ]
    }
   ],
   "source": [
    "print(dir(math))"
   ]
  },
  {
   "cell_type": "code",
   "execution_count": 5,
   "metadata": {},
   "outputs": [],
   "source": [
    "from time import sleep"
   ]
  },
  {
   "cell_type": "code",
   "execution_count": 7,
   "metadata": {},
   "outputs": [
    {
     "name": "stdout",
     "output_type": "stream",
     "text": [
      "['__call__', '__class__', '__delattr__', '__dir__', '__doc__', '__eq__', '__format__', '__ge__', '__getattribute__', '__gt__', '__hash__', '__init__', '__init_subclass__', '__le__', '__lt__', '__module__', '__name__', '__ne__', '__new__', '__qualname__', '__reduce__', '__reduce_ex__', '__repr__', '__self__', '__setattr__', '__sizeof__', '__str__', '__subclasshook__', '__text_signature__']\n"
     ]
    }
   ],
   "source": [
    "print(dir(sleep))"
   ]
  },
  {
   "cell_type": "code",
   "execution_count": 8,
   "metadata": {},
   "outputs": [
    {
     "data": {
      "text/plain": [
       "5.830951894845301"
      ]
     },
     "execution_count": 8,
     "metadata": {},
     "output_type": "execute_result"
    }
   ],
   "source": [
    "math.sqrt(34)"
   ]
  },
  {
   "cell_type": "code",
   "execution_count": 9,
   "metadata": {},
   "outputs": [
    {
     "data": {
      "text/plain": [
       "18.57417562100671"
      ]
     },
     "execution_count": 9,
     "metadata": {},
     "output_type": "execute_result"
    }
   ],
   "source": [
    "math.sqrt(345)"
   ]
  },
  {
   "cell_type": "code",
   "execution_count": 10,
   "metadata": {},
   "outputs": [
    {
     "data": {
      "text/plain": [
       "3.141592653589793"
      ]
     },
     "execution_count": 10,
     "metadata": {},
     "output_type": "execute_result"
    }
   ],
   "source": [
    "math.pi"
   ]
  },
  {
   "cell_type": "code",
   "execution_count": 13,
   "metadata": {},
   "outputs": [
    {
     "data": {
      "text/plain": [
       "65536.0"
      ]
     },
     "execution_count": 13,
     "metadata": {},
     "output_type": "execute_result"
    }
   ],
   "source": [
    "math.pow(2,16)"
   ]
  },
  {
   "cell_type": "code",
   "execution_count": 14,
   "metadata": {},
   "outputs": [
    {
     "data": {
      "text/plain": [
       "2.0"
      ]
     },
     "execution_count": 14,
     "metadata": {},
     "output_type": "execute_result"
    }
   ],
   "source": [
    "math.log10(100)"
   ]
  },
  {
   "cell_type": "code",
   "execution_count": 15,
   "metadata": {},
   "outputs": [
    {
     "data": {
      "text/plain": [
       "3.0"
      ]
     },
     "execution_count": 15,
     "metadata": {},
     "output_type": "execute_result"
    }
   ],
   "source": [
    "math.log10(1000)"
   ]
  },
  {
   "cell_type": "code",
   "execution_count": 16,
   "metadata": {},
   "outputs": [
    {
     "data": {
      "text/plain": [
       "-0.428182669496151"
      ]
     },
     "execution_count": 16,
     "metadata": {},
     "output_type": "execute_result"
    }
   ],
   "source": [
    "math.sin(35)"
   ]
  },
  {
   "cell_type": "code",
   "execution_count": 17,
   "metadata": {},
   "outputs": [
    {
     "data": {
      "text/plain": [
       "0.4401430224960407"
      ]
     },
     "execution_count": 17,
     "metadata": {},
     "output_type": "execute_result"
    }
   ],
   "source": [
    "math.cos(68)"
   ]
  },
  {
   "cell_type": "code",
   "execution_count": 19,
   "metadata": {},
   "outputs": [
    {
     "data": {
      "text/plain": [
       "6689502913449127057588118054090372586752746333138029810295671352301633557244962989366874165271984981308157637893214090552534408589408121859898481114389650005964960521256960000000000000000000000000000"
      ]
     },
     "execution_count": 19,
     "metadata": {},
     "output_type": "execute_result"
    }
   ],
   "source": [
    "math.factorial(120)"
   ]
  },
  {
   "cell_type": "code",
   "execution_count": 20,
   "metadata": {},
   "outputs": [
    {
     "data": {
      "text/plain": [
       "4"
      ]
     },
     "execution_count": 20,
     "metadata": {},
     "output_type": "execute_result"
    }
   ],
   "source": [
    "math.floor(4.9)"
   ]
  },
  {
   "cell_type": "code",
   "execution_count": 21,
   "metadata": {},
   "outputs": [
    {
     "data": {
      "text/plain": [
       "3"
      ]
     },
     "execution_count": 21,
     "metadata": {},
     "output_type": "execute_result"
    }
   ],
   "source": [
    "math.ceil(2.1)"
   ]
  },
  {
   "cell_type": "markdown",
   "metadata": {},
   "source": [
    "##### python is having very rich library set called modules, if you want to use module we need to import it first using 'import' keyword"
   ]
  },
  {
   "cell_type": "markdown",
   "metadata": {},
   "source": [
    "##### How to create our own module"
   ]
  },
  {
   "cell_type": "code",
   "execution_count": 22,
   "metadata": {},
   "outputs": [],
   "source": [
    "import advancedmath"
   ]
  },
  {
   "cell_type": "code",
   "execution_count": 24,
   "metadata": {},
   "outputs": [
    {
     "name": "stdout",
     "output_type": "stream",
     "text": [
      "['__builtins__', '__cached__', '__doc__', '__file__', '__loader__', '__name__', '__package__', '__spec__', 'cal_ed', 'math']\n"
     ]
    }
   ],
   "source": [
    "print(dir(advancedmath))"
   ]
  },
  {
   "cell_type": "markdown",
   "metadata": {},
   "source": [
    "- If we have to import part of module then use \"from entire_module_name import part_module_name\""
   ]
  },
  {
   "cell_type": "markdown",
   "metadata": {},
   "source": [
    "- You can rename the module using as keyword for example, import numpy as np"
   ]
  },
  {
   "cell_type": "markdown",
   "metadata": {},
   "source": [
    "#### some of the built-in modules"
   ]
  },
  {
   "cell_type": "code",
   "execution_count": 28,
   "metadata": {},
   "outputs": [],
   "source": [
    "import platform"
   ]
  },
  {
   "cell_type": "code",
   "execution_count": 33,
   "metadata": {},
   "outputs": [
    {
     "name": "stdout",
     "output_type": "stream",
     "text": [
      "Windows\n",
      "AMD64\n",
      "Intel64 Family 6 Model 61 Stepping 4, GenuineIntel\n",
      "uname_result(system='Windows', node='BJ', release='7', version='6.1.7601', machine='AMD64', processor='Intel64 Family 6 Model 61 Stepping 4, GenuineIntel')\n"
     ]
    }
   ],
   "source": [
    "print(platform.system())\n",
    "print(platform.machine())\n",
    "print(platform.processor())\n",
    "print(platform.uname())"
   ]
  },
  {
   "cell_type": "code",
   "execution_count": 39,
   "metadata": {},
   "outputs": [
    {
     "name": "stdout",
     "output_type": "stream",
     "text": [
      "Package             Version   \n",
      "------------------- ----------\n",
      "altgraph            0.16.1    \n",
      "attrs               19.1.0    \n",
      "backcall            0.1.0     \n",
      "beautifulsoup4      4.6.3     \n",
      "bitarray            1.0.1     \n",
      "bleach              3.1.0     \n",
      "bs4                 0.0.1     \n",
      "camelcase           0.2       \n",
      "certifi             2018.10.15\n",
      "chardet             3.0.4     \n",
      "Click               7.0       \n",
      "colorama            0.4.1     \n",
      "cx-Freeze           5.1.1     \n",
      "cycler              0.10.0    \n",
      "decorator           4.4.0     \n",
      "defusedxml          0.6.0     \n",
      "entrypoints         0.3       \n",
      "future              0.16.0    \n",
      "gTTS                2.0.1     \n",
      "gTTS-token          1.1.2     \n",
      "h5py                2.9.0     \n",
      "idna                2.7       \n",
      "ipykernel           5.1.0     \n",
      "ipython             7.5.0     \n",
      "ipython-genutils    0.2.0     \n",
      "ipywidgets          7.4.2     \n",
      "jedi                0.13.3    \n",
      "Jinja2              2.10.1    \n",
      "jsonschema          3.0.1     \n",
      "jupyter             1.0.0     \n",
      "jupyter-client      5.2.4     \n",
      "jupyter-console     6.0.0     \n",
      "jupyter-core        4.4.0     \n",
      "Keras               2.2.4     \n",
      "Keras-Applications  1.0.8     \n",
      "Keras-Preprocessing 1.1.0     \n",
      "kiwisolver          1.0.1     \n",
      "macholib            1.11      \n",
      "MarkupSafe          1.1.1     \n",
      "matplotlib          3.0.0     \n",
      "mistune             0.8.4     \n",
      "mmh3                2.5.1     \n",
      "nbconvert           5.5.0     \n",
      "nbformat            4.4.0     \n",
      "networkx            2.3       \n",
      "notebook            5.7.8     \n",
      "numpy               1.15.2    \n",
      "opencv-python       3.4.3.18  \n",
      "pandas              0.23.4    \n",
      "pandocfilters       1.4.2     \n",
      "parso               0.4.0     \n",
      "pefile              2018.8.8  \n",
      "pickleshare         0.7.5     \n",
      "Pillow              5.3.0     \n",
      "pip                 19.3.1    \n",
      "prometheus-client   0.6.0     \n",
      "prompt-toolkit      2.0.9     \n",
      "Pygments            2.4.0     \n",
      "PyInstaller         3.4       \n",
      "pyparsing           2.2.2     \n",
      "pyrsistent          0.15.2    \n",
      "pytesseract         0.2.5     \n",
      "python-dateutil     2.7.3     \n",
      "pytz                2018.5    \n",
      "pywin32-ctypes      0.2.0     \n",
      "pywinpty            0.5.5     \n",
      "PyYAML              5.1.1     \n",
      "pyzmq               18.0.1    \n",
      "qtconsole           4.4.4     \n",
      "readchar            2.0.1     \n",
      "requests            2.20.0    \n",
      "scikit-learn        0.20.0    \n",
      "scipy               1.1.0     \n",
      "seaborn             0.9.0     \n",
      "Send2Trash          1.5.0     \n",
      "setuptools          28.8.0    \n",
      "six                 1.11.0    \n",
      "sklearn             0.0       \n",
      "terminado           0.8.2     \n",
      "testpath            0.4.2     \n",
      "tornado             6.0.2     \n",
      "traitlets           4.3.2     \n",
      "urllib3             1.24      \n",
      "wcwidth             0.1.7     \n",
      "webencodings        0.5.1     \n",
      "wheel               0.33.6    \n",
      "widgetsnbextension  3.4.2     \n",
      "word2number         1.1       \n",
      "Note: you may need to restart the kernel to use updated packages.\n"
     ]
    }
   ],
   "source": [
    "pip list"
   ]
  },
  {
   "cell_type": "markdown",
   "metadata": {},
   "source": [
    "#### HOw to Generate our own QR Code "
   ]
  },
  {
   "cell_type": "code",
   "execution_count": 1,
   "metadata": {},
   "outputs": [
    {
     "name": "stdout",
     "output_type": "stream",
     "text": [
      "Requirement already satisfied: qrcode in c:\\users\\administrator\\appdata\\local\\programs\\python\\python36-32\\lib\\site-packages (6.1)\n",
      "Requirement already satisfied: colorama; platform_system == \"Windows\" in c:\\users\\administrator\\appdata\\local\\programs\\python\\python36-32\\lib\\site-packages (from qrcode) (0.4.1)\n",
      "Requirement already satisfied: six in c:\\users\\administrator\\appdata\\local\\programs\\python\\python36-32\\lib\\site-packages (from qrcode) (1.11.0)\n",
      "Note: you may need to restart the kernel to use updated packages.\n"
     ]
    }
   ],
   "source": [
    "pip install qrcode"
   ]
  },
  {
   "cell_type": "code",
   "execution_count": 2,
   "metadata": {},
   "outputs": [],
   "source": [
    "import qrcode"
   ]
  },
  {
   "cell_type": "code",
   "execution_count": 3,
   "metadata": {},
   "outputs": [
    {
     "name": "stdout",
     "output_type": "stream",
     "text": [
      "Package             Version   \n",
      "------------------- ----------\n",
      "altgraph            0.16.1    \n",
      "attrs               19.1.0    \n",
      "backcall            0.1.0     \n",
      "beautifulsoup4      4.6.3     \n",
      "bitarray            1.0.1     \n",
      "bleach              3.1.0     \n",
      "bs4                 0.0.1     \n",
      "camelcase           0.2       \n",
      "certifi             2018.10.15\n",
      "chardet             3.0.4     \n",
      "Click               7.0       \n",
      "colorama            0.4.1     \n",
      "cx-Freeze           5.1.1     \n",
      "cycler              0.10.0    \n",
      "decorator           4.4.0     \n",
      "defusedxml          0.6.0     \n",
      "entrypoints         0.3       \n",
      "future              0.16.0    \n",
      "gTTS                2.0.1     \n",
      "gTTS-token          1.1.2     \n",
      "h5py                2.9.0     \n",
      "idna                2.7       \n",
      "ipykernel           5.1.0     \n",
      "ipython             7.5.0     \n",
      "ipython-genutils    0.2.0     \n",
      "ipywidgets          7.4.2     \n",
      "jedi                0.13.3    \n",
      "Jinja2              2.10.1    \n",
      "jsonschema          3.0.1     \n",
      "jupyter             1.0.0     \n",
      "jupyter-client      5.2.4     \n",
      "jupyter-console     6.0.0     \n",
      "jupyter-core        4.4.0     \n",
      "Keras               2.2.4     \n",
      "Keras-Applications  1.0.8     \n",
      "Keras-Preprocessing 1.1.0     \n",
      "kiwisolver          1.0.1     \n",
      "macholib            1.11      \n",
      "MarkupSafe          1.1.1     \n",
      "matplotlib          3.0.0     \n",
      "mistune             0.8.4     \n",
      "mmh3                2.5.1     \n",
      "nbconvert           5.5.0     \n",
      "nbformat            4.4.0     \n",
      "networkx            2.3       \n",
      "notebook            5.7.8     \n",
      "numpy               1.15.2    \n",
      "opencv-python       3.4.3.18  \n",
      "pandas              0.23.4    \n",
      "pandocfilters       1.4.2     \n",
      "parso               0.4.0     \n",
      "pefile              2018.8.8  \n",
      "pickleshare         0.7.5     \n",
      "Pillow              5.3.0     \n",
      "pip                 19.3.1    \n",
      "prometheus-client   0.6.0     \n",
      "prompt-toolkit      2.0.9     \n",
      "Pygments            2.4.0     \n",
      "PyInstaller         3.4       \n",
      "pyparsing           2.2.2     \n",
      "PyPDF2              1.26.0    \n",
      "pyrsistent          0.15.2    \n",
      "pytesseract         0.2.5     \n",
      "python-dateutil     2.7.3     \n",
      "pytz                2018.5    \n",
      "pywin32-ctypes      0.2.0     \n",
      "pywinpty            0.5.5     \n",
      "PyYAML              5.1.1     \n",
      "pyzmq               18.0.1    \n",
      "qrcode              6.1       \n",
      "qtconsole           4.4.4     \n",
      "readchar            2.0.1     \n",
      "requests            2.20.0    \n",
      "scikit-learn        0.20.0    \n",
      "scipy               1.1.0     \n",
      "seaborn             0.9.0     \n",
      "Send2Trash          1.5.0     \n",
      "setuptools          28.8.0    \n",
      "six                 1.11.0    \n",
      "sklearn             0.0       \n",
      "terminado           0.8.2     \n",
      "testpath            0.4.2     \n",
      "tornado             6.0.2     \n",
      "traitlets           4.3.2     \n",
      "urllib3             1.24      \n",
      "wcwidth             0.1.7     \n",
      "webencodings        0.5.1     \n",
      "wheel               0.33.6    \n",
      "widgetsnbextension  3.4.2     \n",
      "word2number         1.1       \n",
      "Note: you may need to restart the kernel to use updated packages.\n"
     ]
    }
   ],
   "source": [
    "pip list"
   ]
  },
  {
   "cell_type": "code",
   "execution_count": 6,
   "metadata": {},
   "outputs": [
    {
     "name": "stdout",
     "output_type": "stream",
     "text": [
      "Enter URL to generate QR Code:www.simplycs.in\n"
     ]
    }
   ],
   "source": [
    "url=input(\"Enter URL to generate QR Code:\")\n",
    "image=qrcode.make(url)\n",
    "image.save(\"C:/Users/Administrator/Desktop/SimplyCS.in_QR_Code1.jpeg\")"
   ]
  },
  {
   "cell_type": "markdown",
   "metadata": {},
   "source": [
    "#### Procedure to create our own QR Codes\n",
    "- Install qrcode module using pip\n",
    "- import qrcode\n",
    "- qrcode.make(url)\n",
    "- save image with any extension at any place"
   ]
  },
  {
   "cell_type": "code",
   "execution_count": null,
   "metadata": {},
   "outputs": [],
   "source": []
  }
 ],
 "metadata": {
  "kernelspec": {
   "display_name": "Python 3",
   "language": "python",
   "name": "python3"
  },
  "language_info": {
   "codemirror_mode": {
    "name": "ipython",
    "version": 3
   },
   "file_extension": ".py",
   "mimetype": "text/x-python",
   "name": "python",
   "nbconvert_exporter": "python",
   "pygments_lexer": "ipython3",
   "version": "3.6.4"
  }
 },
 "nbformat": 4,
 "nbformat_minor": 2
}
