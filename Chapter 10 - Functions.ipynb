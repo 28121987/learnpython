{
 "cells": [
  {
   "cell_type": "markdown",
   "metadata": {},
   "source": [
    "##### Functions"
   ]
  },
  {
   "cell_type": "markdown",
   "metadata": {},
   "source": [
    "- What is Function\n",
    "- Function is set of statements written in specific order to complete a specific task\n",
    "- def keyword is used to create / define function\n",
    "- why to write functions??\n",
    "- if we write all code together, it is going to be complex, it will be difficult to understand, read and modify the code\n",
    "- Function is basically good for oraginizing the code\n",
    "- In python, we should learn how to define function, how to call a function, how to pass parameters to function, how to return values from function etc\n",
    "- fucntion should be defined above to its call"
   ]
  },
  {
   "cell_type": "code",
   "execution_count": 2,
   "metadata": {},
   "outputs": [
    {
     "data": {
      "text/plain": [
       "'\\n# Syntax for defining function is \\n\\ndef function_name():\\n    function_body\\n    return statement # its optional\\n\\n# how to call function\\n\\nfunction_name()  # function call without parameter\\nfunction_name(parameter1,parameter2)  # Function call with 2 args\\n'"
      ]
     },
     "execution_count": 2,
     "metadata": {},
     "output_type": "execute_result"
    }
   ],
   "source": [
    "'''\n",
    "# Syntax for defining function is \n",
    "\n",
    "def function_name():\n",
    "    function_body\n",
    "    return statement # its optional\n",
    "\n",
    "# how to call function\n",
    "\n",
    "function_name()  # function call without parameter\n",
    "function_name(parameter1,parameter2)  # Function call with 2 args\n",
    "'''"
   ]
  },
  {
   "cell_type": "code",
   "execution_count": 3,
   "metadata": {},
   "outputs": [],
   "source": [
    "# defining a function but it is not called\n",
    "def printHello():\n",
    "    print(\"Hello...\")"
   ]
  },
  {
   "cell_type": "code",
   "execution_count": 4,
   "metadata": {},
   "outputs": [
    {
     "name": "stdout",
     "output_type": "stream",
     "text": [
      "Hello...\n"
     ]
    }
   ],
   "source": [
    "# defining a function but calling it\n",
    "def printHello():   # defination\n",
    "    print(\"Hello...\")\n",
    "\n",
    "printHello()       # calling from bottom is allowed"
   ]
  },
  {
   "cell_type": "code",
   "execution_count": 1,
   "metadata": {},
   "outputs": [
    {
     "name": "stdout",
     "output_type": "stream",
     "text": [
      "this statement is above of function calling\n"
     ]
    },
    {
     "ename": "NameError",
     "evalue": "name 'printHello' is not defined",
     "output_type": "error",
     "traceback": [
      "\u001b[1;31m---------------------------------------------------------------------------\u001b[0m",
      "\u001b[1;31mNameError\u001b[0m                                 Traceback (most recent call last)",
      "\u001b[1;32m<ipython-input-1-545f9bcdc551>\u001b[0m in \u001b[0;36m<module>\u001b[1;34m\u001b[0m\n\u001b[0;32m      1\u001b[0m \u001b[0mprint\u001b[0m\u001b[1;33m(\u001b[0m\u001b[1;34m\"this statement is above of function calling\"\u001b[0m\u001b[1;33m)\u001b[0m\u001b[1;33m\u001b[0m\u001b[0m\n\u001b[1;32m----> 2\u001b[1;33m \u001b[0mprintHello\u001b[0m\u001b[1;33m(\u001b[0m\u001b[1;33m)\u001b[0m       \u001b[1;31m# calling from top\u001b[0m\u001b[1;33m\u001b[0m\u001b[0m\n\u001b[0m\u001b[0;32m      3\u001b[0m \u001b[0mprint\u001b[0m\u001b[1;33m(\u001b[0m\u001b[1;34m\"this statement is bellow of function calling\"\u001b[0m\u001b[1;33m)\u001b[0m\u001b[1;33m\u001b[0m\u001b[0m\n\u001b[0;32m      4\u001b[0m \u001b[1;31m# defining a function but calling it\u001b[0m\u001b[1;33m\u001b[0m\u001b[1;33m\u001b[0m\u001b[0m\n\u001b[0;32m      5\u001b[0m \u001b[1;32mdef\u001b[0m \u001b[0mprintHello\u001b[0m\u001b[1;33m(\u001b[0m\u001b[1;33m)\u001b[0m\u001b[1;33m:\u001b[0m   \u001b[1;31m# defination\u001b[0m\u001b[1;33m\u001b[0m\u001b[0m\n",
      "\u001b[1;31mNameError\u001b[0m: name 'printHello' is not defined"
     ]
    }
   ],
   "source": [
    "print(\"this statement is above of function calling\")\n",
    "printHello()       # calling from top is not allowed\n",
    "print(\"this statement is bellow of function calling\")\n",
    "# defining a function but calling it\n",
    "def printHello():   # defination\n",
    "    print(\"Hello...\")"
   ]
  },
  {
   "cell_type": "code",
   "execution_count": 2,
   "metadata": {},
   "outputs": [
    {
     "name": "stdout",
     "output_type": "stream",
     "text": [
      "this statement is above of function calling\n",
      "Hello...\n",
      "this statement is bellow of function calling\n"
     ]
    }
   ],
   "source": [
    "# defining a function but calling it\n",
    "def printHello():   # defination\n",
    "    print(\"Hello...\")\n",
    "print(\"this statement is above of function calling\")\n",
    "printHello()       # calling from bottom is allowed\n",
    "print(\"this statement is bellow of function calling\")"
   ]
  },
  {
   "cell_type": "code",
   "execution_count": 8,
   "metadata": {},
   "outputs": [
    {
     "name": "stdout",
     "output_type": "stream",
     "text": [
      "Hello... Amit Amol\n"
     ]
    }
   ],
   "source": [
    "# how to pass parameters to function\n",
    "def printHello(name,sname):   \n",
    "    print(\"Hello...\",name,sname)\n",
    "printHello(\"Amit\",\"Amol\")"
   ]
  },
  {
   "cell_type": "code",
   "execution_count": 9,
   "metadata": {},
   "outputs": [
    {
     "name": "stdout",
     "output_type": "stream",
     "text": [
      "Enter First No:23\n",
      "Enter Second No:12\n",
      "Addition is =  35\n",
      "Subtraction is : 11\n",
      "multiplicaiton is - 276\n",
      "Division is =  1.9166666666666667\n",
      "remainder is : 11\n",
      "exp is : 21914624432020321  and floor div is 1\n"
     ]
    }
   ],
   "source": [
    "# write a program using function for arrithemetic operations\n",
    "def cal_add(n1,n2):        # defining fuction for 2 parameters\n",
    "    n3=n1+n2\n",
    "    print(\"Addition is = \",n3)\n",
    "\n",
    "def cal_sub(num1,num2):\n",
    "    return num1-num2       #returning single no to calling function\n",
    "\n",
    "def cal_mul(a,b):\n",
    "    print(\"multiplicaiton is :\", a*b)\n",
    "\n",
    "def cal_div(n1,n2):\n",
    "    n3=n1/n2\n",
    "    print(\"Division is = \",n3)\n",
    "\n",
    "def cal_mod(num1,num2):\n",
    "    return num1%num2\n",
    "\n",
    "def cal_exp_fd(n1,n2):\n",
    "    n3=n1**n2\n",
    "    n4=n1//n2\n",
    "    return n3,n4            # return multiple values\n",
    "\n",
    "num1=int(input(\"Enter First No:\"))\n",
    "num2=int(input(\"Enter Second No:\"))\n",
    "cal_add(num1,num2)\n",
    "sub=cal_sub(num1,num2)\n",
    "print(\"Subtraction is :\",sub)\n",
    "\n",
    "cal_mul(num1,num2)\n",
    "cal_div(num1,num2)\n",
    "mod=cal_mod(num1,num2)\n",
    "print(\"remainder is :\",mod)\n",
    "\n",
    "exp,fd=cal_exp_fd(num1,num2)\n",
    "print(\"exp is :\",exp,\" and floor div is\",fd)"
   ]
  },
  {
   "cell_type": "code",
   "execution_count": 14,
   "metadata": {},
   "outputs": [
    {
     "name": "stdout",
     "output_type": "stream",
     "text": [
      "Swapping With Third Variable\n",
      "Before Swapping num1 and num2 is 23 49\n",
      "After Swapping num1 and num2 is 49 23\n",
      "\n",
      "Swapping Without Third Variable\n",
      "Before Swapping num1 and num2 is 49 23\n",
      "After Swapping num1 and num2 is 23 49\n"
     ]
    }
   ],
   "source": [
    "# Write Python program to swap two number with and without third\n",
    "# variable\n",
    "# Return Mulitiple Vaules\n",
    "def swap_using_third_variable(a,b):\n",
    "    c=a;\n",
    "    a=b;\n",
    "    b=c;\n",
    "    return a,b\n",
    "def swap_without_third_variable(a,b):\n",
    "    a=a+b\n",
    "    b=a-b\n",
    "    a=a-b\n",
    "    return a,b\n",
    "num1=23\n",
    "num2=49\n",
    "print(\"Swapping With Third Variable\")\n",
    "print(\"Before Swapping num1 and num2 is\",num1,num2)\n",
    "num1,num2=swap_using_third_variable(num1,num2)\n",
    "print(\"After Swapping num1 and num2 is\",num1,num2)\n",
    "print()\n",
    "print(\"Swapping Without Third Variable\")\n",
    "print(\"Before Swapping num1 and num2 is\",num1,num2)\n",
    "num1,num2=swap_without_third_variable(num1,num2)\n",
    "print(\"After Swapping num1 and num2 is\",num1,num2)"
   ]
  },
  {
   "cell_type": "markdown",
   "metadata": {},
   "source": [
    "##### Variable number of arguments"
   ]
  },
  {
   "cell_type": "code",
   "execution_count": 25,
   "metadata": {},
   "outputs": [
    {
     "name": "stdout",
     "output_type": "stream",
     "text": [
      "('kavya', 'kayra', 'divya')\n",
      "('kavya',)\n",
      "('kavya', 'kayra')\n",
      "()\n"
     ]
    }
   ],
   "source": [
    "def my_function(*kids):\n",
    "    print(kids)\n",
    "my_function(\"kavya\",\"kayra\",\"divya\")\n",
    "my_function(\"kavya\")\n",
    "my_function(\"kavya\",\"kayra\")\n",
    "my_function()"
   ]
  },
  {
   "cell_type": "code",
   "execution_count": 27,
   "metadata": {},
   "outputs": [],
   "source": [
    "# In python documentation \n",
    "# argumets is refered -> args\n",
    "# arbitary Arguments -> *args\n",
    "# keyword arguments -> kwargs"
   ]
  },
  {
   "cell_type": "markdown",
   "metadata": {},
   "source": [
    "##### Keyword Arguments\n",
    "- arguments are passed using key-value pair"
   ]
  },
  {
   "cell_type": "code",
   "execution_count": 31,
   "metadata": {},
   "outputs": [
    {
     "name": "stdout",
     "output_type": "stream",
     "text": [
      "kavya kayra\n"
     ]
    }
   ],
   "source": [
    "def my_function(child2,child1):\n",
    "    print(child2,child1)\n",
    "\n",
    "my_function(child1=\"kayra\",child2=\"kavya\")  # fuction calling"
   ]
  },
  {
   "cell_type": "code",
   "execution_count": 34,
   "metadata": {},
   "outputs": [
    {
     "name": "stdout",
     "output_type": "stream",
     "text": [
      "{'child1': 'kayra', 'child2': 'kavya'}\n",
      "<class 'dict'>\n",
      "{'child1': 'kayra'}\n",
      "<class 'dict'>\n",
      "{'child1': 'kayra', 'child2': 'kavya', 'child3': 'divya'}\n",
      "<class 'dict'>\n"
     ]
    }
   ],
   "source": [
    "##### Arbitary Keyword Arguments\n",
    "def my_function(**child):\n",
    "    print(child)\n",
    "    print(type(child))\n",
    "my_function(child1=\"kayra\",child2=\"kavya\")  # fuction calling\n",
    "my_function(child1=\"kayra\")  # fuction calling\n",
    "my_function(child1=\"kayra\",child2=\"kavya\",child3=\"divya\")  # fuction calling"
   ]
  },
  {
   "cell_type": "markdown",
   "metadata": {},
   "source": [
    "##### default parameters"
   ]
  },
  {
   "cell_type": "code",
   "execution_count": 35,
   "metadata": {},
   "outputs": [
    {
     "name": "stdout",
     "output_type": "stream",
     "text": [
      "I am from  Sweden\n",
      "I am from  China\n",
      "I am from  India\n",
      "I am from  Netherland\n",
      "I am from  India\n"
     ]
    }
   ],
   "source": [
    "def my_country(country=\"India\"):\n",
    "    print(\"I am from \",country)\n",
    "my_country(\"Sweden\")\n",
    "my_country(\"China\")\n",
    "my_country()\n",
    "my_country(\"Netherland\")\n",
    "my_country(\"India\")"
   ]
  },
  {
   "cell_type": "code",
   "execution_count": 39,
   "metadata": {},
   "outputs": [
    {
     "name": "stdout",
     "output_type": "stream",
     "text": [
      "['apple', 'banana', 'grapes', 'orange']\n",
      "('apple', 'banana', 'grapes', 'orange')\n",
      "{'banana', 'grapes', 'orange', 'apple'}\n"
     ]
    }
   ],
   "source": [
    "##### Passing List,tuple,set or any other object as parameter\n",
    "def my_function(food):\n",
    "    print(food)\n",
    "\n",
    "fruit_list=[\"apple\",\"banana\",\"grapes\",\"orange\"]\n",
    "fruit_tuple=(\"apple\",\"banana\",\"grapes\",\"orange\")\n",
    "fruit_set={\"apple\",\"banana\",\"grapes\",\"orange\"}\n",
    "my_function(fruit_list)\n",
    "my_function(fruit_tuple)\n",
    "my_function(fruit_set)"
   ]
  },
  {
   "cell_type": "markdown",
   "metadata": {},
   "source": [
    "##### pass keyword in function"
   ]
  },
  {
   "cell_type": "code",
   "execution_count": 42,
   "metadata": {},
   "outputs": [],
   "source": [
    "# function with pass keyword is doing nothing\n",
    "def lazy_function():\n",
    "    pass\n",
    "lazy_function()"
   ]
  },
  {
   "cell_type": "markdown",
   "metadata": {},
   "source": [
    "##### Recursion \n",
    "- Recursion is nothing but function call itself"
   ]
  },
  {
   "cell_type": "code",
   "execution_count": 48,
   "metadata": {},
   "outputs": [
    {
     "name": "stdout",
     "output_type": "stream",
     "text": [
      "Enter num to find factorial:100\n",
      "factorial of  100 is  93326215443944152681699238856266700490715968264381621468592963895217599993229915608941463976156518286253697920827223758251185210916864000000000000000000000000\n"
     ]
    }
   ],
   "source": [
    "# write a python program using recursion to find factorial\n",
    "def cal_fact(n):\n",
    "    if n==1:\n",
    "        return 1\n",
    "    else:\n",
    "        return n*cal_fact(n-1)\n",
    "\n",
    "num=int(input(\"Enter num to find factorial:\"))\n",
    "result=cal_fact(num)\n",
    "print(\"factorial of \",num,\"is \",result)"
   ]
  },
  {
   "cell_type": "markdown",
   "metadata": {},
   "source": [
    "##### is python Call by value or Call by reference"
   ]
  },
  {
   "cell_type": "code",
   "execution_count": 49,
   "metadata": {},
   "outputs": [],
   "source": [
    "# python is call by object or call by object reference or call \n",
    "# sharing\n",
    "\n",
    "# some time python is working based on call by value\n",
    "# and some time python is working on call by reference"
   ]
  },
  {
   "cell_type": "code",
   "execution_count": 50,
   "metadata": {},
   "outputs": [],
   "source": [
    "# call by value - integers, strings, tuples etc"
   ]
  },
  {
   "cell_type": "code",
   "execution_count": 55,
   "metadata": {},
   "outputs": [
    {
     "name": "stdout",
     "output_type": "stream",
     "text": [
      "5\n",
      "Address of num: 1854657648\n",
      "square is  10 address on n is 1854657728\n"
     ]
    }
   ],
   "source": [
    "def cal_sq(n):\n",
    "    n=n*n\n",
    "    print(\"square is \",n,\"address on n is\",id(n))\n",
    "num=5\n",
    "print(num)\n",
    "print(\"Address of num:\",id(num))\n",
    "cal_sq(num)\n",
    "# as n and num is having different address space, it means\n",
    "# they are not sharing same memory so value is passed\n",
    "# it is call by value"
   ]
  },
  {
   "cell_type": "code",
   "execution_count": 59,
   "metadata": {},
   "outputs": [
    {
     "name": "stdout",
     "output_type": "stream",
     "text": [
      "List1 before calling:  [1, 2, 3, 4] address is: 104050480\n",
      "List l:  [1, 2, 3, 4] address is: 1854657584\n",
      "List1 after calling:  [1, 2, 3, 4] address is: 104050480\n"
     ]
    }
   ],
   "source": [
    "# call by reference\n",
    "def list_modify(l):\n",
    "    print(\"List l: \",l,\"address is:\",id(l[0]))\n",
    "\n",
    "list1=[1,2,3,4]\n",
    "print(\"List1 before calling: \",list1,\"address is:\",id(list1))\n",
    "list_modify(list1)\n",
    "print(\"List1 after calling: \",list1,\"address is:\",id(list1))"
   ]
  },
  {
   "cell_type": "code",
   "execution_count": 66,
   "metadata": {},
   "outputs": [
    {
     "name": "stdout",
     "output_type": "stream",
     "text": [
      "85225264\n",
      "1854657584\n",
      "1854657600\n",
      "1854657616\n",
      "85225264\n",
      "1854657632\n",
      "1854657600\n",
      "1854657616\n"
     ]
    }
   ],
   "source": [
    "list1=[1,2,3,4]\n",
    "print(id(list1))\n",
    "print(id(list1[0]))\n",
    "print(id(list1[1]))\n",
    "print(id(list1[2]))\n",
    "list1[0]=4\n",
    "print(id(list1))\n",
    "print(id(list1[0]))\n",
    "print(id(list1[1]))\n",
    "print(id(list1[2]))"
   ]
  },
  {
   "cell_type": "markdown",
   "metadata": {},
   "source": [
    "#### Main Function"
   ]
  },
  {
   "cell_type": "code",
   "execution_count": 6,
   "metadata": {},
   "outputs": [
    {
     "name": "stdout",
     "output_type": "stream",
     "text": [
      "Enter Number to find square:6\n",
      "Square is  36\n"
     ]
    }
   ],
   "source": [
    "# this is sample program to find square without using main function\n",
    "def cal_square(num):\n",
    "    return num*num;\n",
    "\n",
    "n=int(input(\"Enter Number to find square:\"))\n",
    "square=cal_square(n)\n",
    "print(\"Square is \", square)"
   ]
  },
  {
   "cell_type": "code",
   "execution_count": 15,
   "metadata": {},
   "outputs": [
    {
     "name": "stdout",
     "output_type": "stream",
     "text": [
      "Enter Number to find square:5\n",
      "Square is  25\n"
     ]
    }
   ],
   "source": [
    "# this is sample program to find square using main function\n",
    "def cal_square(num):\n",
    "    return num*num;\n",
    "\n",
    "def main():\n",
    "    n=int(input(\"Enter Number to find square:\"))\n",
    "    square=cal_square(n)\n",
    "    print(\"Square is \", square)\n",
    "\n",
    "if __name__=='__main__':\n",
    "    main()"
   ]
  },
  {
   "cell_type": "markdown",
   "metadata": {},
   "source": [
    "##### __name__ is a global variable and if you want to execute your program from main function, you have set __name__=__main__"
   ]
  },
  {
   "cell_type": "code",
   "execution_count": 16,
   "metadata": {},
   "outputs": [],
   "source": [
    "### Can we create main function??\n",
    "# Yes"
   ]
  },
  {
   "cell_type": "code",
   "execution_count": 19,
   "metadata": {},
   "outputs": [
    {
     "name": "stdout",
     "output_type": "stream",
     "text": [
      "this is first statement written outside of main\n",
      "This statement is written in main..\n",
      "this is second statement written outside of main\n"
     ]
    }
   ],
   "source": [
    "def main():\n",
    "    print(\"This statement is written in main..\")\n",
    "\n",
    "print(\"this is first statement written outside of main\")   \n",
    "main()\n",
    "print(\"this is second statement written outside of main\")"
   ]
  },
  {
   "cell_type": "markdown",
   "metadata": {},
   "source": [
    "##### write a program which will calculate net salary of employee using main function??"
   ]
  },
  {
   "cell_type": "code",
   "execution_count": 21,
   "metadata": {},
   "outputs": [
    {
     "name": "stdout",
     "output_type": "stream",
     "text": [
      "Enter the BAsic Salary:15000\n",
      "Enter Dearness Allowance:15000\n",
      "Enter House Rent Allowance:3000\n",
      "Enter Tax deductions:1000\n",
      "Net salary of Employee is  32000.0\n"
     ]
    }
   ],
   "source": [
    "def cal_net_sal(bs,da,hra,tax):\n",
    "    gs=bs+da+hra\n",
    "    ns=gs-tax\n",
    "    return ns\n",
    "def main():\n",
    "    bs=float(input(\"Enter the BAsic Salary:\"))\n",
    "    da=float(input(\"Enter Dearness Allowance:\"))\n",
    "    hra=float(input(\"Enter House Rent Allowance:\"))\n",
    "    tax=float(input(\"Enter Tax deductions:\"))\n",
    "    ns=cal_net_sal(bs,da,hra,tax)\n",
    "    print(\"Net salary of Employee is \",ns)\n",
    "\n",
    "if __name__=='__main__':\n",
    "    main()"
   ]
  },
  {
   "cell_type": "markdown",
   "metadata": {},
   "source": [
    "##### Sleep submodule from time module"
   ]
  },
  {
   "cell_type": "code",
   "execution_count": 23,
   "metadata": {},
   "outputs": [],
   "source": [
    "from time import sleep"
   ]
  },
  {
   "cell_type": "code",
   "execution_count": 25,
   "metadata": {
    "scrolled": true
   },
   "outputs": [
    {
     "name": "stdout",
     "output_type": "stream",
     "text": [
      "Begin Data Processing...Please Wait\n",
      "Data processed.. Thanks\n"
     ]
    }
   ],
   "source": [
    "def main():\n",
    "    print(\"Begin Data Processing...Please Wait\")\n",
    "    sleep(10)     # this will pause next execution for specified seconds\n",
    "    print(\"Data processed.. Thanks\")\n",
    "\n",
    "if __name__=='__main__':\n",
    "    main()"
   ]
  },
  {
   "cell_type": "markdown",
   "metadata": {},
   "source": [
    "##### print 0 to 50 numbers with some pause"
   ]
  },
  {
   "cell_type": "code",
   "execution_count": 33,
   "metadata": {},
   "outputs": [
    {
     "name": "stdout",
     "output_type": "stream",
     "text": [
      "0 1 2 3 4 5 6 7 8 9 10 11 12 13 14 15 16 17 18 19 20 21 22 23 24 25 26 27 28 29 30 31 32 33 34 35 36 37 38 39 40 41 42 43 44 45 46 47 48 49 "
     ]
    }
   ],
   "source": [
    "def main():\n",
    "    for i in range(50):\n",
    "        sleep(1)\n",
    "        print(i,end=\" \")\n",
    "\n",
    "if __name__=='__main__':\n",
    "    main()"
   ]
  },
  {
   "cell_type": "code",
   "execution_count": 32,
   "metadata": {},
   "outputs": [
    {
     "data": {
      "text/plain": [
       "'__main__'"
      ]
     },
     "execution_count": 32,
     "metadata": {},
     "output_type": "execute_result"
    }
   ],
   "source": [
    "__name__"
   ]
  },
  {
   "cell_type": "code",
   "execution_count": null,
   "metadata": {},
   "outputs": [],
   "source": []
  }
 ],
 "metadata": {
  "kernelspec": {
   "display_name": "Python 3",
   "language": "python",
   "name": "python3"
  },
  "language_info": {
   "codemirror_mode": {
    "name": "ipython",
    "version": 3
   },
   "file_extension": ".py",
   "mimetype": "text/x-python",
   "name": "python",
   "nbconvert_exporter": "python",
   "pygments_lexer": "ipython3",
   "version": "3.6.4"
  }
 },
 "nbformat": 4,
 "nbformat_minor": 2
}
