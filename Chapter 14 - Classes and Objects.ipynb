{
 "cells": [
  {
   "cell_type": "code",
   "execution_count": 7,
   "metadata": {},
   "outputs": [],
   "source": [
    "# creating a class\n",
    "class Person:\n",
    "    age=25               # attribute of class person\n",
    "    name=\"default_name\"  # attribute of class person\n",
    "    weight=60            # attribute of class person"
   ]
  },
  {
   "cell_type": "code",
   "execution_count": 9,
   "metadata": {},
   "outputs": [
    {
     "name": "stdout",
     "output_type": "stream",
     "text": [
      "default_name\n",
      "25\n",
      "60\n",
      "default_name\n",
      "25\n",
      "25\n",
      "60\n"
     ]
    }
   ],
   "source": [
    "# now create object for Person Class\n",
    "yogesh=Person()\n",
    "priyanka=Person()\n",
    "Sayali=Person()\n",
    "\n",
    "# Print Object Attribute Values\n",
    "print(yogesh.name)\n",
    "print(yogesh.age)\n",
    "print(yogesh.weight)\n",
    "print(priyanka.name)\n",
    "print(priyanka.age)\n",
    "print(Sayali.age)\n",
    "print(Sayali.weight)"
   ]
  },
  {
   "cell_type": "markdown",
   "metadata": {},
   "source": [
    "##### Create class named circle with radius and color as attribute, getRadius and getArea as a Methods"
   ]
  },
  {
   "cell_type": "code",
   "execution_count": 13,
   "metadata": {},
   "outputs": [
    {
     "name": "stdout",
     "output_type": "stream",
     "text": [
      "Radius is  3.5\n",
      "Color of Circle is red\n"
     ]
    }
   ],
   "source": [
    "class circle:   # Class\n",
    "    # Constructor\n",
    "    def __init__(self,radius,color):\n",
    "        self.radius=radius            # attributes\n",
    "        self.color=color              # attrubutes\n",
    "    \n",
    "    # Class Method definition\n",
    "    def getRadius(self):\n",
    "        print(\"Radius is \",self.radius)\n",
    "    \n",
    "    # Class Methods definition\n",
    "    def getColor(this):\n",
    "        print(\"Color of Circle is\",this.color)\n",
    "\n",
    "# Object Creation\n",
    "obj1=circle(3.5,\"red\")\n",
    "\n",
    "\n",
    "obj1.getRadius()        # method Calling with Object\n",
    "obj1.getColor()         # method Calling with Object"
   ]
  },
  {
   "cell_type": "code",
   "execution_count": 16,
   "metadata": {},
   "outputs": [
    {
     "name": "stdout",
     "output_type": "stream",
     "text": [
      "init method is executed\n",
      "Movie Shoot\n",
      "init method is executed\n",
      "Maria Sharapovasays how are you...\n",
      "Play Tenis\n",
      "Football Player\n"
     ]
    }
   ],
   "source": [
    "#### Create Class Human approoiate properties and Methods\n",
    "class Human:\n",
    "    def __init__(self,name,occ):\n",
    "        print(\"init method is executed\")\n",
    "        self.name=name\n",
    "        self.occupation=occ\n",
    "    \n",
    "    def do_work(self):\n",
    "        if self.occupation==\"actor\":\n",
    "            print(\"Movie Shoot\")\n",
    "        elif self.occupation==\"tenis player\":\n",
    "            print(\"Play Tenis\")\n",
    "        else:\n",
    "            print(\"Football Player\")\n",
    "    \n",
    "    def speaks(self):\n",
    "        print(self.name+\"says how are you...\")\n",
    "        \n",
    "tom=Human(\"tom\",\"actor\")\n",
    "tom.do_work()\n",
    "\n",
    "maria=Human(\"Maria Sharapova\",\"tenis player\")\n",
    "maria.speaks()\n",
    "maria.do_work()\n",
    "maria.occupation=\"football player\"\n",
    "maria.do_work()"
   ]
  },
  {
   "cell_type": "markdown",
   "metadata": {},
   "source": [
    "- Create two classes bird and animal, create object of bird as sparrow and cat as object of animal. Define speaks method in both class and call it"
   ]
  },
  {
   "cell_type": "code",
   "execution_count": 34,
   "metadata": {},
   "outputs": [
    {
     "name": "stdout",
     "output_type": "stream",
     "text": [
      "sparrow  say's chiv... chiv\n",
      "cat say's meow... meow\n"
     ]
    }
   ],
   "source": [
    "class bird:\n",
    "    def speaks(x,name):\n",
    "        print(name,\" say's chiv... chiv\")\n",
    "        \n",
    "    def swim(self):\n",
    "        pass\n",
    "    \n",
    "class animal:\n",
    "    def __init__(self,n):\n",
    "        self.name=n\n",
    "    def speaks(self):\n",
    "        print(self.name+\" say's meow... meow\")\n",
    "    \n",
    "    def describe(self):\n",
    "        print(\"I am ...\",self.name)\n",
    "\n",
    "class insects:\n",
    "    pass\n",
    "\n",
    "sparrow=bird()\n",
    "sparrow.speaks(\"sparrow\")\n",
    "sparrow.swim()\n",
    "\n",
    "cat=animal(\"cat\")\n",
    "cat.speaks()"
   ]
  },
  {
   "cell_type": "markdown",
   "metadata": {},
   "source": [
    "- NOte : If for specific purpose if we have write method but we don't want to implement it, we can use \"pass\" keyword. This can apply for class also"
   ]
  },
  {
   "cell_type": "code",
   "execution_count": 32,
   "metadata": {},
   "outputs": [],
   "source": [
    "# how to delete objects- \n",
    "del cat"
   ]
  },
  {
   "cell_type": "code",
   "execution_count": 33,
   "metadata": {},
   "outputs": [
    {
     "ename": "NameError",
     "evalue": "name 'cat' is not defined",
     "output_type": "error",
     "traceback": [
      "\u001b[1;31m---------------------------------------------------------------------------\u001b[0m",
      "\u001b[1;31mNameError\u001b[0m                                 Traceback (most recent call last)",
      "\u001b[1;32m<ipython-input-33-97071d10735a>\u001b[0m in \u001b[0;36m<module>\u001b[1;34m\u001b[0m\n\u001b[1;32m----> 1\u001b[1;33m \u001b[0mcat\u001b[0m\u001b[1;33m.\u001b[0m\u001b[0mspeak\u001b[0m\u001b[1;33m(\u001b[0m\u001b[1;33m)\u001b[0m\u001b[1;33m\u001b[0m\u001b[0m\n\u001b[0m",
      "\u001b[1;31mNameError\u001b[0m: name 'cat' is not defined"
     ]
    }
   ],
   "source": [
    "cat.speak()"
   ]
  },
  {
   "cell_type": "code",
   "execution_count": 35,
   "metadata": {},
   "outputs": [],
   "source": [
    "# create another object\n",
    "snake=animal(\"python\")"
   ]
  },
  {
   "cell_type": "code",
   "execution_count": 36,
   "metadata": {},
   "outputs": [
    {
     "name": "stdout",
     "output_type": "stream",
     "text": [
      "I am ... python\n"
     ]
    }
   ],
   "source": [
    "snake.describe()"
   ]
  },
  {
   "cell_type": "code",
   "execution_count": 52,
   "metadata": {},
   "outputs": [],
   "source": [
    "class Employee:\n",
    "    empCount = 0\n",
    "    def __init__(self, name, salary):\n",
    "        self.name = name\n",
    "        self.salary = salary\n",
    "        Employee.empCount = Employee.empCount+1\n",
    "    \n",
    "    def displayCount(self):\n",
    "         print(\"Total Employee:\",Employee.empCount)\n",
    "    \n",
    "    def displayEmployee(self):\n",
    "        print(\"Name : \", self.name,  \", Salary: \", self.salary)\n",
    "        \n",
    "emp1 = Employee(\"prema\", 2000)\n",
    "emp2 = Employee(\"sayali\", 5000)"
   ]
  },
  {
   "cell_type": "code",
   "execution_count": 55,
   "metadata": {},
   "outputs": [
    {
     "name": "stdout",
     "output_type": "stream",
     "text": [
      "2\n"
     ]
    }
   ],
   "source": [
    "print(Employee.empCount)"
   ]
  },
  {
   "cell_type": "code",
   "execution_count": 53,
   "metadata": {},
   "outputs": [
    {
     "name": "stdout",
     "output_type": "stream",
     "text": [
      "Total Employee: 2\n"
     ]
    }
   ],
   "source": [
    "emp1.displayCount()"
   ]
  },
  {
   "cell_type": "code",
   "execution_count": 54,
   "metadata": {},
   "outputs": [
    {
     "name": "stdout",
     "output_type": "stream",
     "text": [
      "Name :  prema , Salary:  2000\n"
     ]
    }
   ],
   "source": [
    "emp1.displayEmployee()"
   ]
  },
  {
   "cell_type": "code",
   "execution_count": 51,
   "metadata": {},
   "outputs": [
    {
     "name": "stdout",
     "output_type": "stream",
     "text": [
      "Name :  sayali , Salary:  5000\n"
     ]
    }
   ],
   "source": [
    "emp2.displayEmployee()"
   ]
  },
  {
   "cell_type": "markdown",
   "metadata": {},
   "source": [
    "#### Features of OOP\n",
    "##### What is Inheritance?\n",
    "- Inheritance is a powerful feature in object oriented programming.\n",
    "- It refers to defining a new class with little or no modification to an existing class. \n",
    "- The new class is called derived (or child) class and the one from which it inherits is called the base (or parent) class.\n",
    "- 'is a' relation in inheritance"
   ]
  },
  {
   "cell_type": "markdown",
   "metadata": {},
   "source": [
    "##### Benefits of Inheritance\n",
    "1. Reusability of Code\n",
    "2. Extendibility\n",
    "3. Readability"
   ]
  },
  {
   "cell_type": "code",
   "execution_count": 67,
   "metadata": {
    "scrolled": true
   },
   "outputs": [
    {
     "name": "stdout",
     "output_type": "stream",
     "text": [
      "All vechicles are used for Transporation..\n",
      "Traveling long distance, safe, trip with family\n",
      "All vechicles are used for Transporation..\n"
     ]
    },
    {
     "ename": "AttributeError",
     "evalue": "'Vehicle' object has no attribute 'specific_usage'",
     "output_type": "error",
     "traceback": [
      "\u001b[1;31m---------------------------------------------------------------------------\u001b[0m",
      "\u001b[1;31mAttributeError\u001b[0m                            Traceback (most recent call last)",
      "\u001b[1;32m<ipython-input-67-893b6ff95fef>\u001b[0m in \u001b[0;36m<module>\u001b[1;34m\u001b[0m\n\u001b[0;32m     14\u001b[0m \u001b[0mv\u001b[0m\u001b[1;33m=\u001b[0m\u001b[0mVehicle\u001b[0m\u001b[1;33m(\u001b[0m\u001b[1;33m)\u001b[0m\u001b[1;33m\u001b[0m\u001b[0m\n\u001b[0;32m     15\u001b[0m \u001b[0mv\u001b[0m\u001b[1;33m.\u001b[0m\u001b[0mgeneral_usage\u001b[0m\u001b[1;33m(\u001b[0m\u001b[1;33m)\u001b[0m\u001b[1;33m\u001b[0m\u001b[0m\n\u001b[1;32m---> 16\u001b[1;33m \u001b[0mv\u001b[0m\u001b[1;33m.\u001b[0m\u001b[0mspecific_usage\u001b[0m\u001b[1;33m(\u001b[0m\u001b[1;33m)\u001b[0m\u001b[1;33m\u001b[0m\u001b[0m\n\u001b[0m",
      "\u001b[1;31mAttributeError\u001b[0m: 'Vehicle' object has no attribute 'specific_usage'"
     ]
    }
   ],
   "source": [
    "# Single Inheritance - \n",
    "class Vehicle:\n",
    "    def general_usage(self):\n",
    "        print(\"All vechicles are used for Transporation..\")\n",
    "\n",
    "class Car(Vehicle):\n",
    "    def specific_usage(self):\n",
    "        print(\"Traveling long distance, safe, trip with family\")\n",
    "        \n",
    "honda=Car()\n",
    "honda.general_usage()\n",
    "honda.specific_usage()\n",
    "\n",
    "v=Vehicle()\n",
    "v.general_usage()\n",
    "v.specific_usage()"
   ]
  },
  {
   "cell_type": "markdown",
   "metadata": {},
   "source": [
    "- Note - Child can have access all methods of parent class but parent does't"
   ]
  },
  {
   "cell_type": "code",
   "execution_count": 64,
   "metadata": {},
   "outputs": [
    {
     "name": "stdout",
     "output_type": "stream",
     "text": [
      "All vechicles are used for Transporation..\n",
      "Traveling long distance, safe, trip with family\n",
      "\n",
      "All vechicles are used for Transporation..\n",
      "Racing... short trip\n"
     ]
    }
   ],
   "source": [
    "# One to Many Inheritance - \n",
    "class Vehicle:\n",
    "    def general_usage(self):\n",
    "        print(\"All vechicles are used for Transporation..\")\n",
    "\n",
    "class Car(Vehicle):\n",
    "    def specific_usage(self):\n",
    "        print(\"Traveling long distance, safe, trip with family\")\n",
    "class MotorCycle(Vehicle):\n",
    "    def specific_usage(self):\n",
    "        print(\"Racing... short trip\")\n",
    "        \n",
    "honda=Car()\n",
    "honda.general_usage()\n",
    "honda.specific_usage()\n",
    "print()\n",
    "unicorn=MotorCycle()\n",
    "unicorn.general_usage()\n",
    "unicorn.specific_usage()"
   ]
  },
  {
   "cell_type": "code",
   "execution_count": 68,
   "metadata": {},
   "outputs": [
    {
     "name": "stdout",
     "output_type": "stream",
     "text": [
      "parent class executed\n",
      "All vechicles are used for Transporation..\n",
      "Traveling long distance, safe, trip with family MH45H4471\n"
     ]
    }
   ],
   "source": [
    "# Access Attributes of parent class into child class\n",
    "class Vehicle:\n",
    "    def __init__(self):\n",
    "        self.vehicle_no=\"MH45H4471\"\n",
    "        print(\"parent class executed\")\n",
    "    def general_usage(self):\n",
    "        print(\"All vechicles are used for Transporation..\")\n",
    "\n",
    "class Car(Vehicle):\n",
    "    def specific_usage(self):\n",
    "        print(\"Traveling long distance, safe, trip with family\",self.vehicle_no)\n",
    "        \n",
    "honda=Car()\n",
    "honda.general_usage()\n",
    "honda.specific_usage()\n"
   ]
  },
  {
   "cell_type": "markdown",
   "metadata": {},
   "source": [
    "- If child class don't have init method and parent have init method, and we are creating object of child class, parent class init method is going to execute\n",
    "- If child and parent both have init methods, and we create object of child class, in such case child class method is going to execute"
   ]
  },
  {
   "cell_type": "code",
   "execution_count": 69,
   "metadata": {},
   "outputs": [
    {
     "name": "stdout",
     "output_type": "stream",
     "text": [
      "child class executed\n",
      "All vechicles are used for Transporation..\n",
      "Traveling long distance, safe, trip with family MH45H4465\n"
     ]
    }
   ],
   "source": [
    "# Sequence of constructor execution\n",
    "class Vehicle:\n",
    "    def __init__(self):\n",
    "        self.vehicle_no=\"MH45H4471\"\n",
    "        print(\"parent class executed\")\n",
    "    def general_usage(self):\n",
    "        print(\"All vechicles are used for Transporation..\")\n",
    "\n",
    "class Car(Vehicle):\n",
    "    def __init__(self):\n",
    "        self.vehicle_no=\"MH45H4465\"\n",
    "        print(\"child class executed\")\n",
    "    def specific_usage(self):\n",
    "        print(\"Traveling long distance, safe, trip with family\",self.vehicle_no)\n",
    "        \n",
    "honda=Car()\n",
    "honda.general_usage()\n",
    "honda.specific_usage()"
   ]
  },
  {
   "cell_type": "code",
   "execution_count": 74,
   "metadata": {},
   "outputs": [
    {
     "name": "stdout",
     "output_type": "stream",
     "text": [
      "grand child class executed\n",
      "This is is not having roof MH45H44343\n",
      "Traveling long distance, safe, trip with family MH45H44343\n",
      "All vechicles are used for Transporation.. MH45H44343\n"
     ]
    }
   ],
   "source": [
    "#Multilevel Inheritance\n",
    "class Vehicle:\n",
    "    def __init__(self):\n",
    "        self.vehicle_no=\"MH45H4471\"\n",
    "        print(\"parent class executed\")\n",
    "    def general_usage(self):\n",
    "        print(\"All vechicles are used for Transporation..\",self.vehicle_no)\n",
    "\n",
    "class Car(Vehicle):\n",
    "    def __init__(self):\n",
    "        self.vehicle_no=\"MH45H4465\"\n",
    "        print(\"child class executed\")\n",
    "    def specific_usage(self):\n",
    "        print(\"Traveling long distance, safe, trip with family\",self.vehicle_no)\n",
    "\n",
    "class Convertible_Cars(Car):\n",
    "    def __init__(self):\n",
    "        self.vehicle_no=\"MH45H44343\"\n",
    "        print(\"grand child class executed\")\n",
    "    def new_look(self):\n",
    "        print(\"This is is not having roof\",self.vehicle_no)\n",
    "\n",
    "cc=Convertible_Cars()\n",
    "cc.new_look()\n",
    "cc.specific_usage()\n",
    "cc.general_usage()"
   ]
  },
  {
   "cell_type": "markdown",
   "metadata": {},
   "source": [
    " - Grand parent property(Methods) is getting to grand child"
   ]
  },
  {
   "cell_type": "markdown",
   "metadata": {},
   "source": [
    "##### isinstace() Method and issubclass() Method"
   ]
  },
  {
   "cell_type": "code",
   "execution_count": 80,
   "metadata": {},
   "outputs": [
    {
     "name": "stdout",
     "output_type": "stream",
     "text": [
      "True\n",
      "True\n",
      "True\n",
      "False\n"
     ]
    }
   ],
   "source": [
    "print(isinstance(cc,Convertible_Cars))\n",
    "print(isinstance(cc,Car))\n",
    "print(isinstance(cc,Vehicle))\n",
    "print(isinstance(honda,Convertible_Cars))"
   ]
  },
  {
   "cell_type": "code",
   "execution_count": 85,
   "metadata": {},
   "outputs": [
    {
     "name": "stdout",
     "output_type": "stream",
     "text": [
      "True\n",
      "True\n",
      "True\n",
      "False\n"
     ]
    }
   ],
   "source": [
    "print(issubclass(Car,Vehicle))\n",
    "print(issubclass(Convertible_Cars,Car))\n",
    "print(issubclass(Convertible_Cars,Vehicle))\n",
    "class demo:\n",
    "    pass\n",
    "print(issubclass(demo,Vehicle))"
   ]
  },
  {
   "cell_type": "markdown",
   "metadata": {},
   "source": [
    "##### Multiple Inheritance - not supported in C++, supported in JAVA, C# and Python"
   ]
  },
  {
   "cell_type": "code",
   "execution_count": 88,
   "metadata": {},
   "outputs": [
    {
     "name": "stdout",
     "output_type": "stream",
     "text": [
      "I like sports\n",
      "I love Cooking\n",
      "I enjoy Gardening\n"
     ]
    },
    {
     "ename": "AttributeError",
     "evalue": "'son' object has no attribute 'shouting'",
     "output_type": "error",
     "traceback": [
      "\u001b[1;31m---------------------------------------------------------------------------\u001b[0m",
      "\u001b[1;31mAttributeError\u001b[0m                            Traceback (most recent call last)",
      "\u001b[1;32m<ipython-input-88-6af3db8ca1bf>\u001b[0m in \u001b[0;36m<module>\u001b[1;34m\u001b[0m\n\u001b[0;32m     18\u001b[0m \u001b[0myogesh\u001b[0m\u001b[1;33m.\u001b[0m\u001b[0mcooking\u001b[0m\u001b[1;33m(\u001b[0m\u001b[1;33m)\u001b[0m\u001b[1;33m\u001b[0m\u001b[0m\n\u001b[0;32m     19\u001b[0m \u001b[0myogesh\u001b[0m\u001b[1;33m.\u001b[0m\u001b[0mgardening\u001b[0m\u001b[1;33m(\u001b[0m\u001b[1;33m)\u001b[0m\u001b[1;33m\u001b[0m\u001b[0m\n\u001b[1;32m---> 20\u001b[1;33m \u001b[0myogesh\u001b[0m\u001b[1;33m.\u001b[0m\u001b[0mshouting\u001b[0m\u001b[1;33m(\u001b[0m\u001b[1;33m)\u001b[0m\u001b[1;33m\u001b[0m\u001b[0m\n\u001b[0m",
      "\u001b[1;31mAttributeError\u001b[0m: 'son' object has no attribute 'shouting'"
     ]
    }
   ],
   "source": [
    "class neighbour:\n",
    "    def shouting(self):\n",
    "        print(\"i m always shouting\")\n",
    "class father:\n",
    "    def gardening(self):\n",
    "        print(\"I enjoy Gardening\")\n",
    "\n",
    "class mother:\n",
    "    def cooking(self):\n",
    "        print(\"I love Cooking\")\n",
    "    \n",
    "class son(father,mother):\n",
    "    def sports(self):\n",
    "        print(\"I like sports\")\n",
    "        \n",
    "yogesh=son()\n",
    "yogesh.sports()\n",
    "yogesh.cooking()\n",
    "yogesh.gardening()\n",
    "yogesh.shouting()"
   ]
  },
  {
   "cell_type": "markdown",
   "metadata": {},
   "source": [
    "#### Encapsulation"
   ]
  },
  {
   "cell_type": "markdown",
   "metadata": {},
   "source": [
    "- method of wrapping data so that it is protected from outside acess\n",
    "- Class is the best example of encapsulation i.e class wraps attributes and methods\n",
    "- There are public, protected and private access specifiers in python\n",
    "- default acess specifier for class, data member or method is public\n",
    "- single underscore is denoting member is protected and double underscore in front of any datamember is private"
   ]
  },
  {
   "cell_type": "code",
   "execution_count": 18,
   "metadata": {},
   "outputs": [
    {
     "name": "stdout",
     "output_type": "stream",
     "text": [
      "10\n",
      "23\n",
      "I enjoy Gardening\n",
      "i Like Playing\n"
     ]
    },
    {
     "ename": "AttributeError",
     "evalue": "'father' object has no attribute '__programming'",
     "output_type": "error",
     "traceback": [
      "\u001b[1;31m---------------------------------------------------------------------------\u001b[0m",
      "\u001b[1;31mAttributeError\u001b[0m                            Traceback (most recent call last)",
      "\u001b[1;32m<ipython-input-18-eebbffa46ee6>\u001b[0m in \u001b[0;36m<module>\u001b[1;34m\u001b[0m\n\u001b[0;32m     19\u001b[0m \u001b[0mf\u001b[0m\u001b[1;33m.\u001b[0m\u001b[0mgardening\u001b[0m\u001b[1;33m(\u001b[0m\u001b[1;33m)\u001b[0m\u001b[1;33m\u001b[0m\u001b[0m\n\u001b[0;32m     20\u001b[0m \u001b[0mf\u001b[0m\u001b[1;33m.\u001b[0m\u001b[0m_playing\u001b[0m\u001b[1;33m(\u001b[0m\u001b[1;33m)\u001b[0m\u001b[1;33m\u001b[0m\u001b[0m\n\u001b[1;32m---> 21\u001b[1;33m \u001b[0mf\u001b[0m\u001b[1;33m.\u001b[0m\u001b[0m__programming\u001b[0m\u001b[1;33m(\u001b[0m\u001b[1;33m)\u001b[0m\u001b[1;33m\u001b[0m\u001b[0m\n\u001b[0m",
      "\u001b[1;31mAttributeError\u001b[0m: 'father' object has no attribute '__programming'"
     ]
    }
   ],
   "source": [
    "class father:\n",
    "    num=10               # Public data member\n",
    "    _num1=23             # Protected Data Member\n",
    "    __no_of_trees=34      # private data member\n",
    "    \n",
    "    def gardening(self):   # public method\n",
    "        print(\"I enjoy Gardening\")\n",
    "    \n",
    "    def _playing(self):      # protected method\n",
    "        print(\"i Like Playing\")\n",
    "    \n",
    "    def __programming(self):    # Private Method\n",
    "        print(\"i Love Programming\")\n",
    "\n",
    "f=father()\n",
    "print(f.num)\n",
    "print(f._num1)\n",
    "#print(f.__no_of_trees)\n",
    "f.gardening()\n",
    "f._playing()\n",
    "f.__programming()"
   ]
  },
  {
   "cell_type": "markdown",
   "metadata": {},
   "source": [
    "#### Polymorphism\n",
    "#### Method Overloading"
   ]
  },
  {
   "cell_type": "markdown",
   "metadata": {},
   "source": [
    "- like other programming language, python does not support method overloading\n",
    "- but we can create any number of methods with same name and different parameters\n",
    "- latest method definations is executed in such cases, at the same time no of parameters while calling method and method defination should be same"
   ]
  },
  {
   "cell_type": "code",
   "execution_count": 27,
   "metadata": {},
   "outputs": [
    {
     "name": "stdout",
     "output_type": "stream",
     "text": [
      "80\n",
      "The Product is -  None\n"
     ]
    }
   ],
   "source": [
    "def product(a, b): \n",
    "    p = a * b \n",
    "    print(p) \n",
    "def product(a, b, c): \n",
    "    p = a * b*c \n",
    "    print(p)\n",
    "a=product(2,5,8)\n",
    "print(\"The Product is - \",a)"
   ]
  },
  {
   "cell_type": "code",
   "execution_count": 28,
   "metadata": {},
   "outputs": [
    {
     "name": "stdout",
     "output_type": "stream",
     "text": [
      "10\n",
      "The Product is -  None\n"
     ]
    }
   ],
   "source": [
    "def product(a, b, c): \n",
    "    p = a * b*c \n",
    "    print(p)\n",
    "def product(a, b): \n",
    "    p = a * b \n",
    "    print(p)\n",
    "a=product(2,5)\n",
    "print(\"The Product is - \",a)"
   ]
  },
  {
   "cell_type": "code",
   "execution_count": 29,
   "metadata": {},
   "outputs": [
    {
     "name": "stdout",
     "output_type": "stream",
     "text": [
      "10\n",
      "None\n"
     ]
    }
   ],
   "source": [
    "def product(a, b, c): \n",
    "    p = a * b*c \n",
    "    print(p)\n",
    "def product(a, b): \n",
    "    p = a * b \n",
    "    print(p)\n",
    "a=product(2,5)\n",
    "print(a)"
   ]
  },
  {
   "cell_type": "code",
   "execution_count": 26,
   "metadata": {},
   "outputs": [
    {
     "ename": "TypeError",
     "evalue": "product() missing 1 required positional argument: 'c'",
     "output_type": "error",
     "traceback": [
      "\u001b[1;31m---------------------------------------------------------------------------\u001b[0m",
      "\u001b[1;31mTypeError\u001b[0m                                 Traceback (most recent call last)",
      "\u001b[1;32m<ipython-input-26-fa96a50ee5aa>\u001b[0m in \u001b[0;36m<module>\u001b[1;34m\u001b[0m\n\u001b[0;32m      5\u001b[0m     \u001b[0mp\u001b[0m \u001b[1;33m=\u001b[0m \u001b[0ma\u001b[0m \u001b[1;33m*\u001b[0m \u001b[0mb\u001b[0m\u001b[1;33m*\u001b[0m\u001b[0mc\u001b[0m\u001b[1;33m\u001b[0m\u001b[0m\n\u001b[0;32m      6\u001b[0m     \u001b[0mprint\u001b[0m\u001b[1;33m(\u001b[0m\u001b[0mp\u001b[0m\u001b[1;33m)\u001b[0m\u001b[1;33m\u001b[0m\u001b[0m\n\u001b[1;32m----> 7\u001b[1;33m \u001b[0ma\u001b[0m\u001b[1;33m=\u001b[0m\u001b[0mproduct\u001b[0m\u001b[1;33m(\u001b[0m\u001b[1;36m2\u001b[0m\u001b[1;33m,\u001b[0m\u001b[1;36m5\u001b[0m\u001b[1;33m)\u001b[0m\u001b[1;33m\u001b[0m\u001b[0m\n\u001b[0m\u001b[0;32m      8\u001b[0m \u001b[0mprint\u001b[0m\u001b[1;33m(\u001b[0m\u001b[0ma\u001b[0m\u001b[1;33m)\u001b[0m\u001b[1;33m\u001b[0m\u001b[0m\n",
      "\u001b[1;31mTypeError\u001b[0m: product() missing 1 required positional argument: 'c'"
     ]
    }
   ],
   "source": [
    "def product(a, b): \n",
    "    p = a * b \n",
    "    print(p)\n",
    "def product(a, b, c): \n",
    "    p = a * b*c \n",
    "    print(p)\n",
    "a=product(2,5)\n",
    "print(a)"
   ]
  },
  {
   "cell_type": "markdown",
   "metadata": {},
   "source": [
    "##### Method Overriding\n",
    "- It is used in Inheritance Scenario\n",
    "- Base class method and child method will have same name but different behaviour / implementation\n",
    "- Method Overriding is supported\n",
    "- if object of child class is created then it will give preference to child class method and if object of parent class is created then it will give preference to parent class method"
   ]
  },
  {
   "cell_type": "code",
   "execution_count": 3,
   "metadata": {},
   "outputs": [
    {
     "name": "stdout",
     "output_type": "stream",
     "text": [
      "16  is area of square\n",
      "8  is area of rectangle\n"
     ]
    }
   ],
   "source": [
    "class Rectangle():\n",
    "    def __init__(self,length,breadth):\n",
    "        self.length = length\n",
    "        self.breadth = breadth\n",
    "    def getArea(self):\n",
    "        print(self.length*self.breadth,\" is area of rectangle\")\n",
    "\n",
    "class Square(Rectangle):\n",
    "    def __init__(self,side):\n",
    "        self.side = side\n",
    "        \n",
    "    def getArea(self):\n",
    "        print(self.side*self.side,\" is area of square\")\n",
    "\n",
    "s = Square(4)\n",
    "r = Rectangle(2,4)\n",
    "s.getArea()\n",
    "r.getArea()"
   ]
  },
  {
   "cell_type": "markdown",
   "metadata": {},
   "source": [
    "#### Data abstraction"
   ]
  },
  {
   "cell_type": "markdown",
   "metadata": {},
   "source": [
    "- Data abstraction refers to providing only essential information about the data to the outside world, hiding the background details or implementation"
   ]
  },
  {
   "cell_type": "code",
   "execution_count": 4,
   "metadata": {},
   "outputs": [],
   "source": [
    "# Example - \n",
    "class Rectangle():\n",
    "    def __init__(self,length,breadth):\n",
    "        self.length = length\n",
    "        self.breadth = breadth\n",
    "    def getArea(self):\n",
    "        print(self.length*self.breadth,\" is area of rectangle\")"
   ]
  },
  {
   "cell_type": "markdown",
   "metadata": {},
   "source": [
    "- In this example, implementation details of __init__ is hidden from outside world to minimize the complexity\n",
    "- As a programmer we are implementing getArea so it is avaible to see, but it should not be visible to person who is going to use my application"
   ]
  },
  {
   "cell_type": "code",
   "execution_count": null,
   "metadata": {},
   "outputs": [],
   "source": []
  }
 ],
 "metadata": {
  "kernelspec": {
   "display_name": "Python 3",
   "language": "python",
   "name": "python3"
  },
  "language_info": {
   "codemirror_mode": {
    "name": "ipython",
    "version": 3
   },
   "file_extension": ".py",
   "mimetype": "text/x-python",
   "name": "python",
   "nbconvert_exporter": "python",
   "pygments_lexer": "ipython3",
   "version": "3.6.4"
  }
 },
 "nbformat": 4,
 "nbformat_minor": 2
}
